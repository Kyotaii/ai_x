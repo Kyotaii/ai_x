{
 "cells": [
  {
   "cell_type": "code",
   "execution_count": 6,
   "id": "9d4e8ed3",
   "metadata": {},
   "outputs": [
    {
     "data": {
      "text/html": [
       "\n",
       "<style>\n",
       "div.container{width:86% !important;}\n",
       "div.cell.code_cell.rendered{width:100%;}\n",
       "div.CodeMirror {font-family:Consolas; font-size:15pt;}\n",
       "div.output {font-size:15pt; font-weight:bold;}\n",
       "div.input {font-family:Consolas; font-size:15pt;}\n",
       "div.prompt {min-width:70px;}\n",
       "div#toc-wrapper{padding-top:120px;}\n",
       "div.text_cell_render ul li{font-size:12pt;padding:5px;}\n",
       "table.dataframe{font-size:15px;}\n",
       "</style>\n"
      ],
      "text/plain": [
       "<IPython.core.display.HTML object>"
      ]
     },
     "metadata": {},
     "output_type": "display_data"
    }
   ],
   "source": [
    "from IPython.display import display, HTML\n",
    "display(HTML(\"\"\"\n",
    "<style>\n",
    "div.container{width:86% !important;}\n",
    "div.cell.code_cell.rendered{width:100%;}\n",
    "div.CodeMirror {font-family:Consolas; font-size:15pt;}\n",
    "div.output {font-size:15pt; font-weight:bold;}\n",
    "div.input {font-family:Consolas; font-size:15pt;}\n",
    "div.prompt {min-width:70px;}\n",
    "div#toc-wrapper{padding-top:120px;}\n",
    "div.text_cell_render ul li{font-size:12pt;padding:5px;}\n",
    "table.dataframe{font-size:15px;}\n",
    "</style>\n",
    "\"\"\"))"
   ]
  },
  {
   "cell_type": "markdown",
   "id": "66b5d113",
   "metadata": {},
   "source": [
    "<b><font color=\"red\" size=\"5\">ch05. 함수</font></b>\n",
    "- 사용할 코드를 묶어 놓고 그것에 이름을 붙인 것\n",
    "- 오버로딩(함수 이름이 같고, 매개변수의 타입이나 갯수로 다른 함수를 허용하는 것) 불가\n",
    "- 함수 정의\n",
    "```\n",
    "def 함수명([매개변수1, 매개변수2, 매개변수3]):\n",
    "    명령어1\n",
    "    명령어2\n",
    "    명령어n\n",
    "```\n",
    "# 1절. 함수의 정의\n",
    "## 1.1 함수 정의"
   ]
  },
  {
   "cell_type": "code",
   "execution_count": 7,
   "id": "8635b7e5",
   "metadata": {},
   "outputs": [],
   "source": [
    "# 함수 정의\n",
    "def my_message(x, msg): # msg를 x번 출력하는 함수\n",
    "    for i in range(x):\n",
    "        print(msg)"
   ]
  },
  {
   "cell_type": "code",
   "execution_count": 8,
   "id": "c2713a65",
   "metadata": {},
   "outputs": [
    {
     "name": "stdout",
     "output_type": "stream",
     "text": [
      "Hello\n",
      "Hello\n",
      "Hello\n",
      "Hello\n",
      "Hello\n"
     ]
    }
   ],
   "source": [
    "# 함수 사용\n",
    "my_message(5, 'Hello')"
   ]
  },
  {
   "cell_type": "code",
   "execution_count": 9,
   "id": "a6556980",
   "metadata": {},
   "outputs": [
    {
     "name": "stdout",
     "output_type": "stream",
     "text": [
      "hello\n",
      "hello\n",
      "hello\n"
     ]
    }
   ],
   "source": [
    "my_msg = my_message\n",
    "my_msg(3, 'hello')"
   ]
  },
  {
   "cell_type": "code",
   "execution_count": 10,
   "id": "10800e41",
   "metadata": {},
   "outputs": [
    {
     "data": {
      "text/plain": [
       "(function, function)"
      ]
     },
     "execution_count": 10,
     "metadata": {},
     "output_type": "execute_result"
    }
   ],
   "source": [
    "type(my_msg), type(my_message)"
   ]
  },
  {
   "cell_type": "code",
   "execution_count": 11,
   "id": "3d17a894",
   "metadata": {},
   "outputs": [
    {
     "name": "stdout",
     "output_type": "stream",
     "text": [
      "Hello\n",
      "Hello\n"
     ]
    }
   ],
   "source": [
    "print('Hello') # 파이썬 내장함수(import 하지않고 사용할 수 있는 함수)\n",
    "print = 5\n",
    "# print('Hello')\n",
    "del print\n",
    "print('Hello')"
   ]
  },
  {
   "cell_type": "code",
   "execution_count": 12,
   "id": "87db12c5",
   "metadata": {},
   "outputs": [
    {
     "name": "stdout",
     "output_type": "stream",
     "text": [
      "Hello\n",
      "Hello\n"
     ]
    }
   ],
   "source": [
    "my_message(2, 'Hello')"
   ]
  },
  {
   "cell_type": "code",
   "execution_count": 13,
   "id": "b9e2fd97",
   "metadata": {},
   "outputs": [],
   "source": [
    "my_message = 5"
   ]
  },
  {
   "cell_type": "code",
   "execution_count": 15,
   "id": "959fd6c6",
   "metadata": {
    "scrolled": true
   },
   "outputs": [
    {
     "ename": "SyntaxError",
     "evalue": "incomplete input (1863828945.py, line 2)",
     "output_type": "error",
     "traceback": [
      "\u001b[1;36m  Cell \u001b[1;32mIn[15], line 2\u001b[1;36m\u001b[0m\n\u001b[1;33m    # 변수를 삭제해도 함수 사용불가(파이썬 내장함수가 아니라서)\u001b[0m\n\u001b[1;37m                                      ^\u001b[0m\n\u001b[1;31mSyntaxError\u001b[0m\u001b[1;31m:\u001b[0m incomplete input\n"
     ]
    }
   ],
   "source": [
    "def my_message(a, b):\n",
    "# 변수를 삭제해도 함수 사용불가(파이썬 내장함수가 아니라서)"
   ]
  },
  {
   "cell_type": "code",
   "execution_count": 16,
   "id": "9b83fb4f",
   "metadata": {},
   "outputs": [],
   "source": [
    "# 함수 정의 : 4월16일(수)\n",
    "def my_hello():\n",
    "    print('Hello, Python')\n",
    "    print('Hello, World')\n",
    "def my_hello(cnt):\n",
    "    for i in range(cnt):\n",
    "        print('Hello, Python')\n",
    "        print('Hello, World')"
   ]
  },
  {
   "cell_type": "code",
   "execution_count": 17,
   "id": "039b88e2",
   "metadata": {},
   "outputs": [
    {
     "name": "stdout",
     "output_type": "stream",
     "text": [
      "Hello, Python\n",
      "Hello, World\n",
      "Hello, Python\n",
      "Hello, World\n"
     ]
    }
   ],
   "source": [
    "# 함수사용=함수호출\n",
    "my_hello(2)"
   ]
  },
  {
   "cell_type": "code",
   "execution_count": 18,
   "id": "1ff14443",
   "metadata": {},
   "outputs": [
    {
     "data": {
      "text/plain": [
       "<function __main__.my_hello(cnt)>"
      ]
     },
     "execution_count": 18,
     "metadata": {},
     "output_type": "execute_result"
    }
   ],
   "source": [
    "my_hello"
   ]
  },
  {
   "cell_type": "code",
   "execution_count": 19,
   "id": "5fdc611a",
   "metadata": {},
   "outputs": [
    {
     "data": {
      "text/plain": [
       "'__main__'"
      ]
     },
     "execution_count": 19,
     "metadata": {},
     "output_type": "execute_result"
    }
   ],
   "source": [
    "__name__"
   ]
  },
  {
   "cell_type": "code",
   "execution_count": 20,
   "id": "fdd0bd0c",
   "metadata": {},
   "outputs": [
    {
     "name": "stdout",
     "output_type": "stream",
     "text": [
      "Hello, Python\n",
      "Hello, World\n",
      "Hello, Python\n",
      "Hello, World\n"
     ]
    }
   ],
   "source": [
    "if __name__=='__main__':\n",
    "    my_hello(2)"
   ]
  },
  {
   "cell_type": "code",
   "execution_count": 21,
   "id": "b2ad3381",
   "metadata": {},
   "outputs": [],
   "source": [
    "import ch05 # ch05모듈을 Load"
   ]
  },
  {
   "cell_type": "code",
   "execution_count": 22,
   "id": "e956a034",
   "metadata": {},
   "outputs": [
    {
     "name": "stdout",
     "output_type": "stream",
     "text": [
      "Hello, Python\n",
      "Hello, World\n",
      "Hello, Python\n",
      "Hello, World\n",
      "Hello, Python\n",
      "Hello, World\n"
     ]
    }
   ],
   "source": [
    "ch05.my_hello(3)"
   ]
  },
  {
   "cell_type": "code",
   "execution_count": 23,
   "id": "515f90c6",
   "metadata": {},
   "outputs": [],
   "source": [
    "from ch05 import my_hello # ch05 모듈안의 my_hello load"
   ]
  },
  {
   "cell_type": "code",
   "execution_count": 24,
   "id": "6744b643",
   "metadata": {},
   "outputs": [
    {
     "name": "stdout",
     "output_type": "stream",
     "text": [
      "Hello, Python\n",
      "Hello, World\n",
      "Hello, Python\n",
      "Hello, World\n"
     ]
    }
   ],
   "source": [
    "my_hello(2)"
   ]
  },
  {
   "cell_type": "markdown",
   "id": "62292666",
   "metadata": {},
   "source": [
    "## 1.2 docstring"
   ]
  },
  {
   "cell_type": "code",
   "execution_count": 25,
   "id": "0ba97be9",
   "metadata": {},
   "outputs": [],
   "source": [
    "def my_function():\n",
    "    '''\n",
    "    함수의 첫라인에 독스트링을 포함할 수 있습니다\n",
    "    독스트링은 함수의 설명서를 달아주는 역할\n",
    "    주석보다 많은 기능(shift+tab으로 독스트링을 볼 수 있음)\n",
    "    '''\n",
    "    pass"
   ]
  },
  {
   "cell_type": "code",
   "execution_count": 26,
   "id": "1290781f",
   "metadata": {},
   "outputs": [
    {
     "name": "stdout",
     "output_type": "stream",
     "text": [
      "\n",
      "    함수의 첫라인에 독스트링을 포함할 수 있습니다\n",
      "    독스트링은 함수의 설명서를 달아주는 역할\n",
      "    주석보다 많은 기능(shift+tab으로 독스트링을 볼 수 있음)\n",
      "    \n"
     ]
    }
   ],
   "source": [
    "print(my_function.__doc__)"
   ]
  },
  {
   "cell_type": "code",
   "execution_count": 27,
   "id": "a4214eb6",
   "metadata": {},
   "outputs": [
    {
     "name": "stdout",
     "output_type": "stream",
     "text": [
      "\n"
     ]
    }
   ],
   "source": [
    "def fibonacci(n):\n",
    "    a, b = 0, 1\n",
    "    while a < n:\n",
    "        print(a, end='')\n",
    "        a, b = b, a+b\n",
    "print() # 개행"
   ]
  },
  {
   "cell_type": "code",
   "execution_count": 28,
   "id": "2762ce24",
   "metadata": {},
   "outputs": [
    {
     "name": "stdout",
     "output_type": "stream",
     "text": [
      "0112358"
     ]
    }
   ],
   "source": [
    "fibonacci(10)"
   ]
  },
  {
   "cell_type": "code",
   "execution_count": 29,
   "id": "b6bc1af3",
   "metadata": {},
   "outputs": [],
   "source": [
    "if True:\n",
    "    x = 10"
   ]
  },
  {
   "cell_type": "code",
   "execution_count": 30,
   "id": "c8e09e31",
   "metadata": {},
   "outputs": [
    {
     "data": {
      "text/plain": [
       "10"
      ]
     },
     "execution_count": 30,
     "metadata": {},
     "output_type": "execute_result"
    }
   ],
   "source": [
    "x"
   ]
  },
  {
   "cell_type": "markdown",
   "id": "064c90ec",
   "metadata": {},
   "source": [
    "## 1.3 지역변수(local var), 전역변수(global var)"
   ]
  },
  {
   "cell_type": "code",
   "execution_count": 31,
   "id": "fa29eedf",
   "metadata": {},
   "outputs": [
    {
     "name": "stdout",
     "output_type": "stream",
     "text": [
      "함수 안 : 100\n",
      "함수 밖 : 100\n"
     ]
    }
   ],
   "source": [
    "global_var = 100 # 전역변수\n",
    "def func1():\n",
    "    print('함수 안 :', global_var)\n",
    "func1()\n",
    "print('함수 밖 :', global_var)"
   ]
  },
  {
   "cell_type": "code",
   "execution_count": 32,
   "id": "07e6ed7d",
   "metadata": {},
   "outputs": [
    {
     "name": "stdout",
     "output_type": "stream",
     "text": [
      "함수 안 : 200\n"
     ]
    },
    {
     "ename": "NameError",
     "evalue": "name 'local_var' is not defined",
     "output_type": "error",
     "traceback": [
      "\u001b[1;31m---------------------\u001b[0m",
      "\u001b[1;31mNameError\u001b[0mTraceback (most recent call last)",
      "Cell \u001b[1;32mIn[32], line 5\u001b[0m\n\u001b[0;32m      3\u001b[0m     \u001b[38;5;28mprint\u001b[39m(\u001b[38;5;124m'\u001b[39m\u001b[38;5;124m함수 안 :\u001b[39m\u001b[38;5;124m'\u001b[39m, local_var)\n\u001b[0;32m      4\u001b[0m func2()\n\u001b[1;32m----> 5\u001b[0m \u001b[38;5;28mprint\u001b[39m(\u001b[38;5;124m'\u001b[39m\u001b[38;5;124m함수 밖 :\u001b[39m\u001b[38;5;124m'\u001b[39m, \u001b[43mlocal_var\u001b[49m)\n",
      "\u001b[1;31mNameError\u001b[0m: name 'local_var' is not defined"
     ]
    }
   ],
   "source": [
    "def func2():\n",
    "    local_var = 200 # 지역변수\n",
    "    print('함수 안 :', local_var)\n",
    "func2()\n",
    "print('함수 밖 :', local_var)"
   ]
  },
  {
   "cell_type": "code",
   "execution_count": null,
   "id": "b472f0cd",
   "metadata": {},
   "outputs": [],
   "source": [
    "g_var = 100 # 전역변수\n",
    "def func3():\n",
    "    g_var = 200 # 지역변수\n",
    "    print('함수 안(지역변수 g_var) :', g_var)\n",
    "func3()\n",
    "print('함수 밖(전역변수 g_var)', g_var)"
   ]
  },
  {
   "cell_type": "code",
   "execution_count": null,
   "id": "770b2531",
   "metadata": {},
   "outputs": [],
   "source": [
    "# 멕시컬 특성\n",
    "g_var = 100 # 전역변수\n",
    "def func4():\n",
    "    global g_var # fuc4함수내의 g_var는 전역변수를 쓴다\n",
    "    print('함수 안 g_var :', g_var)\n",
    "    g_var = 200 # 지역변수\n",
    "func4()\n",
    "print('함수 밖 g_var :', g_var)"
   ]
  },
  {
   "cell_type": "markdown",
   "id": "9d4b9181",
   "metadata": {},
   "source": [
    "## 1.4 값에 의한 호출\n",
    "- 함수의 매개변수(인수)로 전달되는 변수가 스칼라 변수(문자, 숫자, 논리형)일 때"
   ]
  },
  {
   "cell_type": "code",
   "execution_count": null,
   "id": "bfbe5040",
   "metadata": {},
   "outputs": [],
   "source": [
    "foo = 'a' # 전역변수\n",
    "id(foo)"
   ]
  },
  {
   "cell_type": "code",
   "execution_count": null,
   "id": "ee75830d",
   "metadata": {},
   "outputs": [],
   "source": [
    "def func1(f): # 매개변수 f는 지역변수\n",
    "    print('Before :', f, 'idf(f) :', id(f))\n",
    "    f = f*3\n",
    "    print('After :', f, 'idf(f) :', id(f))\n",
    "func1(foo)"
   ]
  },
  {
   "cell_type": "code",
   "execution_count": null,
   "id": "47578366",
   "metadata": {},
   "outputs": [],
   "source": [
    "print(foo, id(foo))"
   ]
  },
  {
   "cell_type": "markdown",
   "id": "13adac4f",
   "metadata": {},
   "source": [
    "## 1.5 참조에 의한 호출\n",
    "- 함수의 매개변수(인자)로 전달되는 변수가 리스트, 튜플, 셋, 딕셔너리, 객체일 경우"
   ]
  },
  {
   "cell_type": "code",
   "execution_count": null,
   "id": "daa66f81",
   "metadata": {},
   "outputs": [],
   "source": [
    "L = [1,2,3]\n",
    "id(L)"
   ]
  },
  {
   "cell_type": "code",
   "execution_count": null,
   "id": "ee81d9b4",
   "metadata": {},
   "outputs": [],
   "source": [
    "def func2(f): # 매개변수는 지역변수\n",
    "    print('Before :', f, id(f))\n",
    "    f.append(4)\n",
    "    print('After :', f, id(f))\n",
    "func2(L)"
   ]
  },
  {
   "cell_type": "code",
   "execution_count": null,
   "id": "217de360",
   "metadata": {},
   "outputs": [],
   "source": [
    "print('L =', L, id(L))"
   ]
  },
  {
   "cell_type": "markdown",
   "id": "b55468c0",
   "metadata": {},
   "source": [
    "# 2절. 함수의 실행 결과를 반환하는 return"
   ]
  },
  {
   "cell_type": "code",
   "execution_count": null,
   "id": "14113c4c",
   "metadata": {},
   "outputs": [],
   "source": [
    "def fibonacci_print(n):\n",
    "    '''\n",
    "    매개변수로 들어온 n값 미만의 피보나치 수열을 출력\n",
    "    ex. n=10이면 0 1 1 2 3 5 8을 출력\n",
    "    '''\n",
    "    a, b = 0, 1\n",
    "    while a < n:\n",
    "        print(a, end=' ')\n",
    "        a, b = b, a+b\n",
    "    print() # 개행\n",
    "    \n",
    "def fibonacci_return(n):\n",
    "    '''\n",
    "    매개변수로 들어온 n값 미만의 피보나치 수열을 리스트로 return\n",
    "    ex. n=10이면 [0 1 1 2 3 5 8]을 return\n",
    "    '''\n",
    "    result = []\n",
    "    a, b = 0, 1\n",
    "    while a < n:\n",
    "        result.append(a)\n",
    "        a, b = b, a+b\n",
    "    return result"
   ]
  },
  {
   "cell_type": "code",
   "execution_count": null,
   "id": "11323ecf",
   "metadata": {},
   "outputs": [],
   "source": [
    "x = fibonacci_print(100)\n",
    "print(x)\n",
    "print(type(x))"
   ]
  },
  {
   "cell_type": "code",
   "execution_count": null,
   "id": "67253b99",
   "metadata": {},
   "outputs": [],
   "source": [
    "x = fibonacci_return(100)"
   ]
  },
  {
   "cell_type": "markdown",
   "id": "9e8a8bce",
   "metadata": {},
   "source": [
    "## 여러개 값 return"
   ]
  },
  {
   "cell_type": "code",
   "execution_count": null,
   "id": "6c8a353c",
   "metadata": {},
   "outputs": [],
   "source": [
    "def swap(a, b):\n",
    "    '매개변수의 순서를 바꿔서 return'\n",
    "    return b, a"
   ]
  },
  {
   "cell_type": "code",
   "execution_count": null,
   "id": "dadb00f4",
   "metadata": {},
   "outputs": [],
   "source": [
    "x, y = 5, 10\n",
    "print(f'함수 실행 전 x={x}, y ={y}')\n",
    "x, y = swap(x, y)\n",
    "print(f'함수 실행 후 x={x}, y ={y}')"
   ]
  },
  {
   "cell_type": "markdown",
   "id": "700debdf",
   "metadata": {},
   "source": [
    "# 3절. 함수의 매개변수 ★\n",
    "## 3.1. 기본값을 갖는 매개변수"
   ]
  },
  {
   "cell_type": "code",
   "execution_count": null,
   "id": "fb8f82b9",
   "metadata": {},
   "outputs": [],
   "source": [
    "def make_url(ip, port=80): # 순서인수 > 기본값을 갖는 매개변수\n",
    "    return \"http://{}:{}\".format(ip, port)"
   ]
  },
  {
   "cell_type": "code",
   "execution_count": 33,
   "id": "f358162e",
   "metadata": {},
   "outputs": [
    {
     "ename": "NameError",
     "evalue": "name 'make_url' is not defined",
     "output_type": "error",
     "traceback": [
      "\u001b[1;31m---------------------\u001b[0m",
      "\u001b[1;31mNameError\u001b[0mTraceback (most recent call last)",
      "Cell \u001b[1;32mIn[33], line 1\u001b[0m\n\u001b[1;32m----> 1\u001b[0m \u001b[38;5;28mprint\u001b[39m(\u001b[43mmake_url\u001b[49m(\u001b[38;5;124m\"\u001b[39m\u001b[38;5;124mwww.naver.com\u001b[39m\u001b[38;5;124m\"\u001b[39m))\n\u001b[0;32m      2\u001b[0m \u001b[38;5;28mprint\u001b[39m(make_url(\u001b[38;5;124m\"\u001b[39m\u001b[38;5;124mlocalhost\u001b[39m\u001b[38;5;124m\"\u001b[39m, \u001b[38;5;241m8090\u001b[39m))\n\u001b[0;32m      3\u001b[0m \u001b[38;5;28mprint\u001b[39m(make_url(port\u001b[38;5;241m=\u001b[39m\u001b[38;5;241m8090\u001b[39m, ip \u001b[38;5;241m=\u001b[39m\u001b[38;5;124m\"\u001b[39m\u001b[38;5;124mlocalhost\u001b[39m\u001b[38;5;124m\"\u001b[39m))\n",
      "\u001b[1;31mNameError\u001b[0m: name 'make_url' is not defined"
     ]
    }
   ],
   "source": [
    "print(make_url(\"www.naver.com\"))\n",
    "print(make_url(\"localhost\", 8090))\n",
    "print(make_url(port=8090, ip =\"localhost\"))"
   ]
  },
  {
   "cell_type": "markdown",
   "id": "5422338f",
   "metadata": {},
   "source": [
    "## 3.2 기본변수를 갖는 매개변수\n",
    "- 기본변수가 스칼라 변수일 때\n",
    "- 기본변수가 리스트, 셋, 딕셔너리, 등의 객체일 때"
   ]
  },
  {
   "cell_type": "code",
   "execution_count": 34,
   "id": "4bf9f6a4",
   "metadata": {},
   "outputs": [],
   "source": [
    "i = 5\n",
    "# 기본값을 갖는 변수가 스칼라 변수일 때 : arg의 기본값은 함수가 정의되는 시점의 값\n",
    "def func2(arg=i):\n",
    "    print('arg = ', arg)"
   ]
  },
  {
   "cell_type": "code",
   "execution_count": 35,
   "id": "6f16eb84",
   "metadata": {},
   "outputs": [
    {
     "name": "stdout",
     "output_type": "stream",
     "text": [
      "arg =  5\n"
     ]
    }
   ],
   "source": [
    "i = 50\n",
    "func2()"
   ]
  },
  {
   "cell_type": "code",
   "execution_count": 36,
   "id": "923be6f6",
   "metadata": {},
   "outputs": [],
   "source": [
    "list_ = []\n",
    "# 기본값을 갖는 변수가 객체(데이터구조)일 때 : arg의 기본값은 호출되는 시점의 값\n",
    "def func3(data, L=list_):\n",
    "    \"data를 L에 append\"\n",
    "    L.append(data)\n",
    "    return L"
   ]
  },
  {
   "cell_type": "code",
   "execution_count": 37,
   "id": "c26bffd6",
   "metadata": {},
   "outputs": [
    {
     "name": "stdout",
     "output_type": "stream",
     "text": [
      "[10]\n"
     ]
    }
   ],
   "source": [
    "print(func3(10)) # list_가 수정 : [10]"
   ]
  },
  {
   "cell_type": "code",
   "execution_count": 38,
   "id": "10507007",
   "metadata": {},
   "outputs": [
    {
     "name": "stdout",
     "output_type": "stream",
     "text": [
      "[10, 20]\n"
     ]
    }
   ],
   "source": [
    "print(func3(20))"
   ]
  },
  {
   "cell_type": "code",
   "execution_count": 39,
   "id": "5a9c4652",
   "metadata": {},
   "outputs": [
    {
     "data": {
      "text/plain": [
       "[10, 20]"
      ]
     },
     "execution_count": 39,
     "metadata": {},
     "output_type": "execute_result"
    }
   ],
   "source": [
    "list_"
   ]
  },
  {
   "cell_type": "code",
   "execution_count": 40,
   "id": "492746a7",
   "metadata": {},
   "outputs": [],
   "source": [
    "def func4(data, L=None):\n",
    "    if L==None:\n",
    "        L = []\n",
    "    L.append(data)\n",
    "    return L"
   ]
  },
  {
   "cell_type": "code",
   "execution_count": 41,
   "id": "5771d3ba",
   "metadata": {},
   "outputs": [
    {
     "name": "stdout",
     "output_type": "stream",
     "text": [
      "[10]\n",
      "[10, 20, 10]\n"
     ]
    }
   ],
   "source": [
    "print(func4(10))\n",
    "print(func4(10, list_))"
   ]
  },
  {
   "cell_type": "markdown",
   "id": "a206c84c",
   "metadata": {},
   "source": [
    "## 3.3 튜플 매개변수를 이용한 가변인수 설정"
   ]
  },
  {
   "cell_type": "code",
   "execution_count": 42,
   "id": "ff601d40",
   "metadata": {},
   "outputs": [],
   "source": [
    "# 파이썬은 오버로딩(함수의 중복)을 지원하지 않음\n",
    "def add(a, b):\n",
    "    return a+b\n",
    "def add(a, b, c):\n",
    "    return a+b+c"
   ]
  },
  {
   "cell_type": "code",
   "execution_count": 43,
   "id": "69b8892a",
   "metadata": {},
   "outputs": [
    {
     "ename": "TypeError",
     "evalue": "add() takes 3 positional arguments but 4 were given",
     "output_type": "error",
     "traceback": [
      "\u001b[1;31m---------------------\u001b[0m",
      "\u001b[1;31mTypeError\u001b[0mTraceback (most recent call last)",
      "Cell \u001b[1;32mIn[43], line 1\u001b[0m\n\u001b[1;32m----> 1\u001b[0m \u001b[43madd\u001b[49m\u001b[43m(\u001b[49m\u001b[38;5;241;43m1\u001b[39;49m\u001b[43m,\u001b[49m\u001b[38;5;241;43m2\u001b[39;49m\u001b[43m,\u001b[49m\u001b[38;5;241;43m3\u001b[39;49m\u001b[43m,\u001b[49m\u001b[38;5;241;43m4\u001b[39;49m\u001b[43m)\u001b[49m\n",
      "\u001b[1;31mTypeError\u001b[0m: add() takes 3 positional arguments but 4 were given"
     ]
    }
   ],
   "source": [
    "add(1,2,3,4)"
   ]
  },
  {
   "cell_type": "code",
   "execution_count": 44,
   "id": "8ab68d4c",
   "metadata": {},
   "outputs": [],
   "source": [
    "# *args 매개변수들을 하나의 튜플 변수 args로 전달받음\n",
    "def add(*args):\n",
    "    '전달받은 매개변수들의 합을 return'\n",
    "    print('args = ',args)\n",
    "    # print ('args = ', args)\n",
    "    result_tot = 0 # 누적변수\n",
    "    for data in args:\n",
    "        result_tot += data\n",
    "        return result_tot"
   ]
  },
  {
   "cell_type": "code",
   "execution_count": 45,
   "id": "1f61aa6e",
   "metadata": {},
   "outputs": [
    {
     "name": "stdout",
     "output_type": "stream",
     "text": [
      "args =  (1,)\n",
      "1\n",
      "args =  (1, 2)\n",
      "1\n",
      "args =  (1, 2, 3)\n",
      "1\n",
      "args =  (1, 2, 3, 9, 10)\n",
      "1\n"
     ]
    }
   ],
   "source": [
    "print(add(1))\n",
    "print(add(1, 2))\n",
    "print(add(1, 2, 3))\n",
    "print(add(1, 2, 3, 9, 10))"
   ]
  },
  {
   "cell_type": "code",
   "execution_count": 46,
   "id": "b8de0a51",
   "metadata": {},
   "outputs": [
    {
     "name": "stdout",
     "output_type": "stream",
     "text": [
      "args =  (1, 2, 3, 4, 5, 10)\n"
     ]
    },
    {
     "data": {
      "text/plain": [
       "1"
      ]
     },
     "execution_count": 46,
     "metadata": {},
     "output_type": "execute_result"
    }
   ],
   "source": [
    "add(1,2,3,4,5,10)"
   ]
  },
  {
   "cell_type": "code",
   "execution_count": 47,
   "id": "7628d16c",
   "metadata": {},
   "outputs": [
    {
     "data": {
      "text/plain": [
       "'Python/Oracle/DL/ML'"
      ]
     },
     "execution_count": 47,
     "metadata": {},
     "output_type": "execute_result"
    }
   ],
   "source": [
    "subject = ('Python', 'Oracle', 'DL', 'ML')\n",
    "'/'.join(subject)"
   ]
  },
  {
   "cell_type": "code",
   "execution_count": 48,
   "id": "5c328507",
   "metadata": {},
   "outputs": [],
   "source": [
    "def concat(*subject, sep):\n",
    "    return sep.join(subject)"
   ]
  },
  {
   "cell_type": "code",
   "execution_count": 49,
   "id": "90b28889",
   "metadata": {},
   "outputs": [
    {
     "data": {
      "text/plain": [
       "'Python / Oracle / DL / ML'"
      ]
     },
     "execution_count": 49,
     "metadata": {},
     "output_type": "execute_result"
    }
   ],
   "source": [
    "concat('Python', 'Oracle', 'DL', 'ML', sep=' / ')"
   ]
  },
  {
   "cell_type": "code",
   "execution_count": 50,
   "id": "1a8de472",
   "metadata": {},
   "outputs": [
    {
     "data": {
      "text/plain": [
       "'Python / Oracle / DL / ML'"
      ]
     },
     "execution_count": 50,
     "metadata": {},
     "output_type": "execute_result"
    }
   ],
   "source": [
    "# 해결책1 : 매개변수 이름을 지정해서 호출\n",
    "concat('Python', 'Oracle', 'DL', 'ML', sep=' / ')"
   ]
  },
  {
   "cell_type": "code",
   "execution_count": 51,
   "id": "6f3f230e",
   "metadata": {},
   "outputs": [],
   "source": [
    "# 해결책2 : 기본값을 반드시 갖는 키워드 인수 사용\n",
    "def concat(*subject, sep=' ~ '):\n",
    "    return sep.join(subject)"
   ]
  },
  {
   "cell_type": "code",
   "execution_count": 52,
   "id": "fd76b8d3",
   "metadata": {},
   "outputs": [
    {
     "data": {
      "text/plain": [
       "'Python / Oracle / DL / ML'"
      ]
     },
     "execution_count": 52,
     "metadata": {},
     "output_type": "execute_result"
    }
   ],
   "source": [
    "concat('Python', 'Oracle', 'DL', 'ML', sep=' / ')"
   ]
  },
  {
   "cell_type": "code",
   "execution_count": 53,
   "id": "82e29193",
   "metadata": {},
   "outputs": [],
   "source": [
    "# 해결책3 : 순서인수로 앞에 선언\n",
    "def concat(sep, *subject):\n",
    "    return sep.join(subject)"
   ]
  },
  {
   "cell_type": "code",
   "execution_count": 54,
   "id": "e027e7c7",
   "metadata": {},
   "outputs": [
    {
     "name": "stdout",
     "output_type": "stream",
     "text": [
      "Python / Oracle / DL / ML\n"
     ]
    }
   ],
   "source": [
    "print('Python', 'Oracle', 'DL', 'ML', sep=' / ')"
   ]
  },
  {
   "cell_type": "code",
   "execution_count": 55,
   "id": "cdbc522f",
   "metadata": {},
   "outputs": [],
   "source": [
    "# 해결책 3\n",
    "def concat(sep, *subject):\n",
    "    return sep.join(subject)"
   ]
  },
  {
   "cell_type": "code",
   "execution_count": null,
   "id": "cee526b0",
   "metadata": {},
   "outputs": [],
   "source": []
  },
  {
   "cell_type": "code",
   "execution_count": null,
   "id": "38d6e7a3",
   "metadata": {},
   "outputs": [],
   "source": []
  },
  {
   "cell_type": "markdown",
   "id": "597fb808",
   "metadata": {},
   "source": [
    "## 3.4 딕셔너리 매개변수\n",
    "- 여러개의 키워드인수를 딕셔너리 형태로 "
   ]
  },
  {
   "cell_type": "code",
   "execution_count": 56,
   "id": "7a413e96",
   "metadata": {},
   "outputs": [],
   "source": [
    "def func5(**kwargs):\n",
    "    print(kwargs)\n",
    "    print(type(kwargs))\n",
    "    print('이름 :', kwargs.get('name', '대마왕'))\n",
    "    print('나이 :', kwargs.get('age', '30'))\n",
    "    print('주소 :', kwargs.get('address', '서울'))"
   ]
  },
  {
   "cell_type": "code",
   "execution_count": 57,
   "id": "d807f8f2",
   "metadata": {},
   "outputs": [
    {
     "name": "stdout",
     "output_type": "stream",
     "text": [
      "{'name': '홍길동', 'age': 30, 'address': '신림동'}\n",
      "<class 'dict'>\n",
      "이름 : 홍길동\n",
      "나이 : 30\n",
      "주소 : 신림동\n"
     ]
    }
   ],
   "source": [
    "func5(name='홍길동', age=30, address='신림동')"
   ]
  },
  {
   "cell_type": "code",
   "execution_count": 58,
   "id": "01355d8d",
   "metadata": {},
   "outputs": [
    {
     "name": "stdout",
     "output_type": "stream",
     "text": [
      "{'name': '김길동'}\n",
      "<class 'dict'>\n",
      "이름 : 김길동\n",
      "나이 : 30\n",
      "주소 : 서울\n"
     ]
    }
   ],
   "source": [
    "func5(name='김길동')"
   ]
  },
  {
   "cell_type": "markdown",
   "id": "4253ad65",
   "metadata": {},
   "source": [
    "## 3.5 함수 정의시 매개변수 순서\n",
    "- 순서인수 > 튜플매개변수(*) > 키워드인수(매개변수이름 반드시 명시) > 딕셔너리매개변수(**)"
   ]
  },
  {
   "cell_type": "code",
   "execution_count": 59,
   "id": "9472bbff",
   "metadata": {},
   "outputs": [],
   "source": [
    "def func6(a, b, *c, **d):\n",
    "    print('순서인수 a= :', a)\n",
    "    print('순서인수 b= :', b)\n",
    "    print('튜플인수 c= :', c)\n",
    "    print('딕셔너리 인수 d= :', d)"
   ]
  },
  {
   "cell_type": "code",
   "execution_count": 60,
   "id": "5c80bf67",
   "metadata": {},
   "outputs": [
    {
     "name": "stdout",
     "output_type": "stream",
     "text": [
      "순서인수 a= : 10\n",
      "순서인수 b= : 20\n",
      "튜플인수 c= : (1, 2, 3, 4, 5, 6, 7, 8, 9)\n",
      "딕셔너리 인수 d= : {'name': '홍길동', 'age': 30, 'address': '서울'}\n"
     ]
    }
   ],
   "source": [
    "func6(10, 20, 1, 2, 3, 4, 5, 6, 7, 8, 9, name='홍길동', age=30, address='서울')"
   ]
  },
  {
   "cell_type": "code",
   "execution_count": 61,
   "id": "2ee42208",
   "metadata": {},
   "outputs": [],
   "source": [
    "def func7(a, b, *c, d='기본값', **e):\n",
    "    print('순서인수 a= :', a)\n",
    "    print('순서인수 b= :', b)\n",
    "    print('순서인수 c= :', c)\n",
    "    print('키워드인수(기본값을 갖는 인수, 호출시 매개변수명 반드시 명시) d :', d)\n",
    "    print('딕셔너리인수 e = :', e)"
   ]
  },
  {
   "cell_type": "code",
   "execution_count": 62,
   "id": "e10ca952",
   "metadata": {},
   "outputs": [
    {
     "name": "stdout",
     "output_type": "stream",
     "text": [
      "순서인수 a= : 10\n",
      "순서인수 b= : 20\n",
      "순서인수 c= : (1, 2, 3)\n",
      "키워드인수(기본값을 갖는 인수, 호출시 매개변수명 반드시 명시) d : 딴거\n",
      "딕셔너리인수 e = : {'fontsize': 12, 'fontfamily': 'consola'}\n"
     ]
    }
   ],
   "source": [
    "func7(10, 20, 1, 2, 3, d='딴거', fontsize=12, fontfamily='consola')"
   ]
  },
  {
   "cell_type": "markdown",
   "id": "2879bef3",
   "metadata": {},
   "source": [
    "## 3.6 인수의 언패킹\n",
    "### 튜플인수 언패킹\n",
    "- 언패킹 : 함수 호출시 매개변수앞에 * 붙임\n",
    "- 패킹 : 함수 정의시 매개변수 앞에 * 붙임(튜플매개변수)"
   ]
  },
  {
   "cell_type": "code",
   "execution_count": 63,
   "id": "60a231b3",
   "metadata": {},
   "outputs": [],
   "source": [
    "def add(*args):\n",
    "    print(args)\n",
    "    tot = 0\n",
    "    for num in args:\n",
    "        tot += num\n",
    "    return tot"
   ]
  },
  {
   "cell_type": "code",
   "execution_count": 64,
   "id": "c69d3e52",
   "metadata": {},
   "outputs": [
    {
     "name": "stdout",
     "output_type": "stream",
     "text": [
      "(1, 2, 3, 4)\n"
     ]
    },
    {
     "data": {
      "text/plain": [
       "10"
      ]
     },
     "execution_count": 64,
     "metadata": {},
     "output_type": "execute_result"
    }
   ],
   "source": [
    "add(1, 2, 3, 4)"
   ]
  },
  {
   "cell_type": "code",
   "execution_count": 65,
   "id": "c0205a50",
   "metadata": {},
   "outputs": [
    {
     "name": "stdout",
     "output_type": "stream",
     "text": [
      "(1, 2, 3, 4)\n"
     ]
    },
    {
     "data": {
      "text/plain": [
       "10"
      ]
     },
     "execution_count": 65,
     "metadata": {},
     "output_type": "execute_result"
    }
   ],
   "source": [
    "numbers = (1, 2, 3, 4)\n",
    "add(*numbers) # 언패킹"
   ]
  },
  {
   "cell_type": "code",
   "execution_count": 66,
   "id": "342d0f39",
   "metadata": {},
   "outputs": [
    {
     "name": "stdout",
     "output_type": "stream",
     "text": [
      "(1, 2, 3, 4)\n"
     ]
    },
    {
     "data": {
      "text/plain": [
       "10"
      ]
     },
     "execution_count": 66,
     "metadata": {},
     "output_type": "execute_result"
    }
   ],
   "source": [
    "numbers = (1,2,3,4)\n",
    "add(*numbers) # 언패킹"
   ]
  },
  {
   "cell_type": "markdown",
   "id": "5e79e3b8",
   "metadata": {},
   "source": [
    "### 딕셔너리 언패킹"
   ]
  },
  {
   "cell_type": "code",
   "execution_count": 67,
   "id": "893a2440",
   "metadata": {},
   "outputs": [],
   "source": [
    "def func5(**data):\n",
    "    print(type(data))\n",
    "    for key, item in data.items():\n",
    "        print(f'{key}:{item}')    "
   ]
  },
  {
   "cell_type": "code",
   "execution_count": 68,
   "id": "00e8d22c",
   "metadata": {},
   "outputs": [
    {
     "name": "stdout",
     "output_type": "stream",
     "text": [
      "<class 'dict'>\n",
      "name:홍길동\n",
      "age:30\n",
      "address:신림\n"
     ]
    }
   ],
   "source": [
    "func5(name='홍길동', age=30, address='신림')"
   ]
  },
  {
   "cell_type": "code",
   "execution_count": 69,
   "id": "dd043e8a",
   "metadata": {},
   "outputs": [
    {
     "name": "stdout",
     "output_type": "stream",
     "text": [
      "<class 'dict'>\n",
      "name:홍길동\n",
      "age:30\n",
      "address:서울시 강남구\n",
      "score:900\n"
     ]
    }
   ],
   "source": [
    "customInfo = {'name':'홍길동', 'age':30, 'address':'서울시 강남구', 'score':900}\n",
    "func5(**customInfo)"
   ]
  },
  {
   "cell_type": "markdown",
   "id": "1bc47a5f",
   "metadata": {},
   "source": [
    "# 4절. 람다식\n",
    "- return 한줄짜리 작은 익명함수\n",
    "## 4.1 람다식 연습"
   ]
  },
  {
   "cell_type": "code",
   "execution_count": 70,
   "id": "054a2db8",
   "metadata": {},
   "outputs": [
    {
     "data": {
      "text/plain": [
       "7"
      ]
     },
     "execution_count": 70,
     "metadata": {},
     "output_type": "execute_result"
    }
   ],
   "source": [
    "def add(a, b):\n",
    "    return a+b\n",
    "add(3, 4)"
   ]
  },
  {
   "cell_type": "code",
   "execution_count": 71,
   "id": "42e6065a",
   "metadata": {},
   "outputs": [
    {
     "data": {
      "text/plain": [
       "7"
      ]
     },
     "execution_count": 71,
     "metadata": {},
     "output_type": "execute_result"
    }
   ],
   "source": [
    "add2 = lambda a, b : a+b\n",
    "add2(3, 4)"
   ]
  },
  {
   "cell_type": "code",
   "execution_count": 72,
   "id": "075b0954",
   "metadata": {},
   "outputs": [
    {
     "data": {
      "text/plain": [
       "(function, function)"
      ]
     },
     "execution_count": 72,
     "metadata": {},
     "output_type": "execute_result"
    }
   ],
   "source": [
    "type(add), type(add2)"
   ]
  },
  {
   "cell_type": "code",
   "execution_count": 73,
   "id": "40a92a85",
   "metadata": {},
   "outputs": [
    {
     "data": {
      "text/plain": [
       "7"
      ]
     },
     "execution_count": 73,
     "metadata": {},
     "output_type": "execute_result"
    }
   ],
   "source": [
    "(lambda a, b : a+b)(3,4)"
   ]
  },
  {
   "cell_type": "code",
   "execution_count": 74,
   "id": "ea4d1e1a",
   "metadata": {},
   "outputs": [
    {
     "data": {
      "text/plain": [
       "('짝수', '홀수')"
      ]
     },
     "execution_count": 74,
     "metadata": {},
     "output_type": "execute_result"
    }
   ],
   "source": [
    "# ex1. 매개변수로 들어온 값이 짝수인지 홀수인지 return\n",
    "def ex1(num):\n",
    "#    if num%2:\n",
    "#        result = \"홀수\"\n",
    "#    else:\n",
    "#        result = \"짝수\"\n",
    "    return \"홀수\" if num%2 else \"짝수\"\n",
    "ex1 = lambda num : \"홀수\" if num%2 else \"짝수\"\n",
    "ex1(10), ex1(-9)"
   ]
  },
  {
   "cell_type": "code",
   "execution_count": 75,
   "id": "9faf4eea",
   "metadata": {},
   "outputs": [
    {
     "data": {
      "text/plain": [
       "(1, 10)"
      ]
     },
     "execution_count": 75,
     "metadata": {},
     "output_type": "execute_result"
    }
   ],
   "source": [
    "# ex2. 두 매개변수의 차이를 return\n",
    "def diff(a, b):\n",
    "    if a>b:\n",
    "        result = a-b\n",
    "    else:\n",
    "        resylt = b-a\n",
    "    result = a-b if a>b else b-a\n",
    "    return result\n",
    "diff(2, 1), diff(10, 20)"
   ]
  },
  {
   "cell_type": "code",
   "execution_count": 76,
   "id": "620735ad",
   "metadata": {},
   "outputs": [
    {
     "name": "stdout",
     "output_type": "stream",
     "text": [
      "1 10\n",
      "<class 'function'> <class 'function'>\n"
     ]
    }
   ],
   "source": [
    "ex2 = lambda a, b : a-b if a>b else b-a\n",
    "print(ex2(2, 1), ex2(10,20))\n",
    "print(type(diff), type(ex2))"
   ]
  },
  {
   "cell_type": "code",
   "execution_count": 77,
   "id": "496ed9cf",
   "metadata": {},
   "outputs": [
    {
     "data": {
      "text/plain": [
       "(1000, 'negative')"
      ]
     },
     "execution_count": 77,
     "metadata": {},
     "output_type": "execute_result"
    }
   ],
   "source": [
    "# ex3. 매개변수로 잔액을 받아 양수면 잔액을 return, 음수면 'negative'를 return\n",
    "ex3 = lambda money : money if money>0 else 'negative'\n",
    "ex3(1000), ex3(-100)"
   ]
  },
  {
   "cell_type": "code",
   "execution_count": 78,
   "id": "e9de6405",
   "metadata": {},
   "outputs": [
    {
     "data": {
      "text/plain": [
       "('유효하지 않음', 'A팀', 'B팀', '재시험')"
      ]
     },
     "execution_count": 78,
     "metadata": {},
     "output_type": "execute_result"
    }
   ],
   "source": [
    "# ex4. 점수를 입력받아 점수가 100점이하80점이상은 A팀, 60점이상은 B팀, 60점미만은 재시험.\n",
    "#      그외는 유효하지 않음\n",
    "ex4 = lambda score : \"A팀\" if 80<=score<=100 else\\\n",
    "                    \"B팀\" if 60<=score<80 else\\\n",
    "                    \"재시험\" if 0<=score<60 else\\\n",
    "                    \"유효하지 않음\"\n",
    "ex4(120), ex4(90), ex4(70), ex4(50)"
   ]
  },
  {
   "cell_type": "code",
   "execution_count": 79,
   "id": "faa1fd89",
   "metadata": {},
   "outputs": [],
   "source": [
    "# ex5. safe_index를 람다식으로 \n",
    "def safe_index(vector, data):\n",
    "    if data in vector: # lst안에 data 있는지 여부\n",
    "        return vector.index(data)\n",
    "    else:\n",
    "        return -1"
   ]
  },
  {
   "cell_type": "code",
   "execution_count": 80,
   "id": "cbd5e3f5",
   "metadata": {},
   "outputs": [
    {
     "data": {
      "text/plain": [
       "(-1, 1)"
      ]
     },
     "execution_count": 80,
     "metadata": {},
     "output_type": "execute_result"
    }
   ],
   "source": [
    "ex5 = lambda vector, data : vector.index(data) if data in vector else -1\n",
    "tup = (1, 2, 3)\n",
    "ex5(tup, 4), ex5(tup, 2)"
   ]
  },
  {
   "cell_type": "markdown",
   "id": "ec835cfa",
   "metadata": {},
   "source": [
    "## 4.2 함수의 매개변수에 람다식 이용\n",
    "## (1) map"
   ]
  },
  {
   "cell_type": "code",
   "execution_count": 29,
   "id": "a4b26508",
   "metadata": {},
   "outputs": [],
   "source": [
    "def map_template(func, L=[]):\n",
    "    'L의 모든 요소를 func()함수를 적용시켜 return'\n",
    "    result = []\n",
    "    for l in L:\n",
    "        result.append(func(l))\n",
    "    return result\n",
    "#     return [func(l) for l in L]"
   ]
  },
  {
   "cell_type": "code",
   "execution_count": 30,
   "id": "2486b9df",
   "metadata": {},
   "outputs": [
    {
     "data": {
      "text/plain": [
       "[2, 4, 6, 8, 10, 12, 14, 16, 18, 20]"
      ]
     },
     "execution_count": 30,
     "metadata": {},
     "output_type": "execute_result"
    }
   ],
   "source": [
    "# 리스트 데이터를 가공 방법 1. map_template\n",
    "list_data = [1, 2, 3, 4, 5, 6, 7, 8, 9, 10]\n",
    "map_template(lambda x : x*2, list_data)\n",
    "# def x_2(x):\n",
    "#     return x*2\n",
    "# map_template(x_2, list_data)"
   ]
  },
  {
   "cell_type": "code",
   "execution_count": 31,
   "id": "ff98bf7c",
   "metadata": {},
   "outputs": [
    {
     "data": {
      "text/plain": [
       "[2, 4, 6, 8, 10, 12, 14, 16, 18, 20]"
      ]
     },
     "execution_count": 31,
     "metadata": {},
     "output_type": "execute_result"
    }
   ],
   "source": [
    "# 리스트 데이터를 가공 방법 2. 리스트 컴프리헨션\n",
    "[l*2 for l in list_data]"
   ]
  },
  {
   "cell_type": "code",
   "execution_count": 32,
   "id": "54445e28",
   "metadata": {},
   "outputs": [
    {
     "data": {
      "text/plain": [
       "[2, 4, 6, 8, 10, 12, 14, 16, 18, 20]"
      ]
     },
     "execution_count": 32,
     "metadata": {},
     "output_type": "execute_result"
    }
   ],
   "source": [
    "# 리스트 데이터를 가공 방법 3. map():파이썬 내장함수\n",
    "list(map(lambda x : x*2, list_data))"
   ]
  },
  {
   "cell_type": "code",
   "execution_count": 33,
   "id": "5bef533f",
   "metadata": {},
   "outputs": [
    {
     "name": "stdout",
     "output_type": "stream",
     "text": [
      "2 4 6 8 10 12 14 16 18 20 "
     ]
    }
   ],
   "source": [
    "for item in map(lambda x : x*2, list_data):\n",
    "    print(item, end=' ')"
   ]
  },
  {
   "cell_type": "code",
   "execution_count": 1,
   "id": "4cfb1beb",
   "metadata": {},
   "outputs": [],
   "source": [
    "'''\n",
    "예1. [5000,800,1000,6000]로 바꾸시오\n",
    "'''\n",
    "prices = ['5,000','800','1000','6,000']"
   ]
  },
  {
   "cell_type": "code",
   "execution_count": 2,
   "id": "96c708ed",
   "metadata": {},
   "outputs": [
    {
     "data": {
      "text/plain": [
       "(5000, 1800)"
      ]
     },
     "execution_count": 2,
     "metadata": {},
     "output_type": "execute_result"
    }
   ],
   "source": [
    "def func(x):\n",
    "    return int(x.replace(',',''))\n",
    "func(\"5,000\"), func(\"1800\")"
   ]
  },
  {
   "cell_type": "code",
   "execution_count": 3,
   "id": "b12e739a",
   "metadata": {},
   "outputs": [
    {
     "data": {
      "text/plain": [
       "[5000, 800, 1000, 6000]"
      ]
     },
     "execution_count": 3,
     "metadata": {},
     "output_type": "execute_result"
    }
   ],
   "source": [
    "list(map(lambda x : int(x.replace(',','')), prices))"
   ]
  },
  {
   "cell_type": "code",
   "execution_count": 15,
   "id": "ce3b88ee",
   "metadata": {},
   "outputs": [],
   "source": [
    "\n",
    "'''\n",
    "예2. member1 = [{'name':'홍길동', 'birth':'2000-01-01'},\n",
    "                {'name':'신길동', 'birth':'1998-12-31'},]를\n",
    "    member2 =  [{'name':'홍길동', 'year':2000, 'month':1, 'day':1},\n",
    "                {'name':'신길동', 'year':1998, 'month':12, 'day':31},]를 바꿉니다\n",
    "'''\n",
    "member1 = [{'name':'홍길동', 'birth':'2000-01-01'},\n",
    "           {'name':'신길동', 'birth':'1998-12-31'},]"
   ]
  },
  {
   "cell_type": "code",
   "execution_count": 16,
   "id": "e291ff3a",
   "metadata": {},
   "outputs": [],
   "source": [
    "# '2000-01-01' => {'year':1998, 'month':12, 'day':31}\n",
    "def split_date(date):\n",
    "    split_data = date.split('-')\n",
    "#     print(split_data[0], split_data[1], split_data[2])\n",
    "    return {'year': int(split_data[0]),\n",
    "           'month': int(split_data[1]),\n",
    "           'day'  : int(split_data[2])\n",
    "           }"
   ]
  },
  {
   "cell_type": "code",
   "execution_count": 17,
   "id": "bfbb187a",
   "metadata": {
    "scrolled": true
   },
   "outputs": [
    {
     "data": {
      "text/plain": [
       "{'year': 2000, 'month': 1, 'day': 1}"
      ]
     },
     "execution_count": 17,
     "metadata": {},
     "output_type": "execute_result"
    }
   ],
   "source": [
    "split_date(\"2000-01-01\")"
   ]
  },
  {
   "cell_type": "code",
   "execution_count": 18,
   "id": "961b3b06",
   "metadata": {},
   "outputs": [
    {
     "data": {
      "text/plain": [
       "{'name': '홍길동', 'year': 2000, 'month': 1, 'day': 1}"
      ]
     },
     "execution_count": 18,
     "metadata": {},
     "output_type": "execute_result"
    }
   ],
   "source": [
    "def member_func(member): # {'name':'홍길동', 'birth':'2000-01-01'}\n",
    "    \"{'name':'신길동', 'year':1998, 'month':12, 'day':31}식으로 return\"\n",
    "    return {\n",
    "        'name':member.get('name'),\n",
    "        'year':int(member['birth'].split('-')[0]),\n",
    "        'month':int(member['birth'].split('-')[1]),\n",
    "        'day':int(member['birth'].split('-')[2]),\n",
    "    }\n",
    "member_func(member1[0])"
   ]
  },
  {
   "cell_type": "code",
   "execution_count": 19,
   "id": "b3f9af65",
   "metadata": {},
   "outputs": [
    {
     "data": {
      "text/plain": [
       "[{'name': '홍길동', 'year': 2000, 'month': 1, 'day': 1},\n",
       " {'name': '신길동', 'year': 1998, 'month': 12, 'day': 31}]"
      ]
     },
     "execution_count": 19,
     "metadata": {},
     "output_type": "execute_result"
    }
   ],
   "source": [
    "member2 =list(map(lambda member : {\n",
    "                        'name':member.get('name'),\n",
    "                        'year':int(member['birth'].split('-')[0]),\n",
    "                        'month':int(member['birth'].split('-')[1]),\n",
    "                        'day':int(member['birth'].split('-')[2]),\n",
    "                        } ,\n",
    "         member1\n",
    "        )\n",
    "    )\n",
    "member2"
   ]
  },
  {
   "cell_type": "code",
   "execution_count": 20,
   "id": "fac449b7",
   "metadata": {},
   "outputs": [
    {
     "data": {
      "text/plain": [
       "'예3. member2를 member1로 바꿉니다'"
      ]
     },
     "execution_count": 20,
     "metadata": {},
     "output_type": "execute_result"
    }
   ],
   "source": [
    "'예3. member2를 member1로 바꿉니다'"
   ]
  },
  {
   "cell_type": "code",
   "execution_count": 21,
   "id": "b2437813",
   "metadata": {},
   "outputs": [],
   "source": [
    "# {'year': 2000, 'month': 1, 'day': 1} => \"2000-01-01\"를 return하는 함수\n",
    "def join_date(data):\n",
    "    # print([data.get('year'), data.get('month'), data.get('day')])\n",
    "    year = str(data.get('year'))\n",
    "    month = data.get('month')\n",
    "    if month < 10:\n",
    "        month = '0'+str(month)\n",
    "    else:\n",
    "        month = str(month)\n",
    "    day = data.get('day')\n",
    "    if day < 10:\n",
    "        day = '0'+str(day)\n",
    "    else:\n",
    "        day = str(day)\n",
    "    return '-'.join([year, month, day])"
   ]
  },
  {
   "cell_type": "code",
   "execution_count": 22,
   "id": "23403d5b",
   "metadata": {},
   "outputs": [],
   "source": [
    "def join_date(data):\n",
    "    print(\"{}-{:02}-{:02}\".format(data.get('year'), \n",
    "                                  data.get('month'), \n",
    "                                  data.get('day')))"
   ]
  },
  {
   "cell_type": "code",
   "execution_count": 23,
   "id": "a0ed24a5",
   "metadata": {},
   "outputs": [],
   "source": [
    "def join_date(data):\n",
    "    print(\"{year}-{month:02}-{day:02}\".format(\n",
    "                                  year = data.get('year'), \n",
    "                                  month=data.get('month'), \n",
    "                                  day=data.get('day')))"
   ]
  },
  {
   "cell_type": "code",
   "execution_count": 24,
   "id": "7f04c3ec",
   "metadata": {},
   "outputs": [],
   "source": [
    "def join_date(data):\n",
    "    return \"{year}-{month:02}-{day:02}\".format(**data)"
   ]
  },
  {
   "cell_type": "code",
   "execution_count": 25,
   "id": "22c9aba7",
   "metadata": {},
   "outputs": [
    {
     "data": {
      "text/plain": [
       "'2000-01-01'"
      ]
     },
     "execution_count": 25,
     "metadata": {},
     "output_type": "execute_result"
    }
   ],
   "source": [
    "join_date({'year': 2000, 'month': 1, 'day': 1})"
   ]
  },
  {
   "cell_type": "code",
   "execution_count": 26,
   "id": "08bd86c5",
   "metadata": {
    "scrolled": true
   },
   "outputs": [
    {
     "data": {
      "text/plain": [
       "[{'name': '홍길동', 'year': 2000, 'month': 1, 'day': 1},\n",
       " {'name': '신길동', 'year': 1998, 'month': 12, 'day': 31}]"
      ]
     },
     "execution_count": 26,
     "metadata": {},
     "output_type": "execute_result"
    }
   ],
   "source": [
    "member2"
   ]
  },
  {
   "cell_type": "code",
   "execution_count": 27,
   "id": "95c004bc",
   "metadata": {},
   "outputs": [
    {
     "data": {
      "text/plain": [
       "[{'name': '홍길동', 'birth': '2000-01-01'},\n",
       " {'name': '신길동', 'birth': '1998-12-31'}]"
      ]
     },
     "execution_count": 27,
     "metadata": {},
     "output_type": "execute_result"
    }
   ],
   "source": [
    "# {'name':'홍길동', 'year':2000, 'month':1, 'day':1} (member2)를\n",
    "# {'name':'홍길동', 'birth':'2000-01-01'}으로 가공\n",
    "list(map(lambda member : {\n",
    "                        'name' : member.get('name'),\n",
    "                        'birth' : \"{year}-{month:02}-{day:02}\".format(**member)}, member2\n",
    "))"
   ]
  },
  {
   "cell_type": "markdown",
   "id": "def7482c",
   "metadata": {},
   "source": [
    "## (2) filter\n",
    "- map : [1,2,3,4,5] => [2,4,6,8,10] (벡터의 모든 데이터를 가공)\n",
    "- filter : [1,2,3,4,5] => [2,4] (원하는 정보를 추출)\n",
    "- cf. 리스트 컴프리헨션"
   ]
  },
  {
   "cell_type": "code",
   "execution_count": 33,
   "id": "d4e52e6a",
   "metadata": {},
   "outputs": [],
   "source": [
    "def filter_template(func, L=[]):\n",
    "    result = []\n",
    "    for l in L:\n",
    "        if func(1):\n",
    "            result.append(1)\n",
    "            return result"
   ]
  },
  {
   "cell_type": "code",
   "execution_count": 34,
   "id": "b9ee6897",
   "metadata": {},
   "outputs": [
    {
     "data": {
      "text/plain": [
       "(True, False)"
      ]
     },
     "execution_count": 34,
     "metadata": {},
     "output_type": "execute_result"
    }
   ],
   "source": [
    "def evenChic(value):\n",
    "    return value%2==0\n",
    "evenChic(10), evenChic(-9)"
   ]
  },
  {
   "cell_type": "code",
   "execution_count": 39,
   "id": "2382ec58",
   "metadata": {},
   "outputs": [],
   "source": [
    "list_data = [1, 2, 3, 4, 5]\n",
    "filter_template(lambda value : value%2==0, list_data)"
   ]
  },
  {
   "cell_type": "code",
   "execution_count": 40,
   "id": "0b3c117c",
   "metadata": {},
   "outputs": [
    {
     "data": {
      "text/plain": [
       "[2, 4]"
      ]
     },
     "execution_count": 40,
     "metadata": {},
     "output_type": "execute_result"
    }
   ],
   "source": [
    "list(filter(lambda value : value%2==0, list_data))"
   ]
  },
  {
   "cell_type": "code",
   "execution_count": 41,
   "id": "71104971",
   "metadata": {},
   "outputs": [
    {
     "data": {
      "text/plain": [
       "[2, 4]"
      ]
     },
     "execution_count": 41,
     "metadata": {},
     "output_type": "execute_result"
    }
   ],
   "source": [
    "[data for data in list_data if data%2==0]"
   ]
  },
  {
   "cell_type": "markdown",
   "id": "b3d6c2fe",
   "metadata": {},
   "source": [
    "## (3) sort"
   ]
  },
  {
   "cell_type": "code",
   "execution_count": 1,
   "id": "859aef13",
   "metadata": {},
   "outputs": [
    {
     "data": {
      "text/plain": [
       "[9, 7, 2]"
      ]
     },
     "execution_count": 1,
     "metadata": {},
     "output_type": "execute_result"
    }
   ],
   "source": [
    "p = [9, 2, 7]\n",
    "p.sort(reverse=True)\n",
    "p"
   ]
  },
  {
   "cell_type": "code",
   "execution_count": 2,
   "id": "7895ff7a",
   "metadata": {},
   "outputs": [
    {
     "data": {
      "text/plain": [
       "[(1, 'one'), (2, 'two'), (3, 'three'), (4, 'four')]"
      ]
     },
     "execution_count": 2,
     "metadata": {},
     "output_type": "execute_result"
    }
   ],
   "source": [
    "# 무조건 0번째 item 기준으로 정렬\n",
    "pairs = [(2, 'two'), (1, 'one'), (4, 'four'), (3, 'three')]\n",
    "pairs.sort()\n",
    "pairs"
   ]
  },
  {
   "cell_type": "code",
   "execution_count": 3,
   "id": "40cccc63",
   "metadata": {},
   "outputs": [
    {
     "data": {
      "text/plain": [
       "[(4, 'four'), (1, 'one'), (3, 'three'), (2, 'two')]"
      ]
     },
     "execution_count": 3,
     "metadata": {},
     "output_type": "execute_result"
    }
   ],
   "source": [
    "# 1번째 item 기준으로 정렬(abc순)\n",
    "pairs.sort(key=lambda pair : pair[1])\n",
    "pairs"
   ]
  },
  {
   "cell_type": "code",
   "execution_count": 4,
   "id": "8343ce04",
   "metadata": {},
   "outputs": [
    {
     "data": {
      "text/plain": [
       "[[10, 1], [9, 9, 9, 9, 9, 9], [1, 100]]"
      ]
     },
     "execution_count": 4,
     "metadata": {},
     "output_type": "execute_result"
    }
   ],
   "source": [
    "# 무조건 0번 item기준으로 정렬\n",
    "number2d = [[9, 9, 9, 9, 9, 9],\n",
    "            [1, 100],\n",
    "            [10, 1]]\n",
    "number2d.sort(reverse=True) # 기본(reverse=False):오름차순정렬/reverse=True:내림차순정렬\n",
    "number2d"
   ]
  },
  {
   "cell_type": "code",
   "execution_count": 5,
   "id": "952e9d82",
   "metadata": {},
   "outputs": [
    {
     "data": {
      "text/plain": [
       "6"
      ]
     },
     "execution_count": 5,
     "metadata": {},
     "output_type": "execute_result"
    }
   ],
   "source": [
    "# 리스트를 매개변수로 받아 합을 return\n",
    "(lambda item : sum(item))([1,2,3])"
   ]
  },
  {
   "cell_type": "code",
   "execution_count": 6,
   "id": "a96b725f",
   "metadata": {},
   "outputs": [
    {
     "data": {
      "text/plain": [
       "[[1, 100], [9, 9, 9, 9, 9, 9], [10, 1]]"
      ]
     },
     "execution_count": 6,
     "metadata": {},
     "output_type": "execute_result"
    }
   ],
   "source": [
    "# 합이 큰 순으로 정렬\n",
    "number2d.sort(key = lambda item : sum(item), reverse=True)\n",
    "number2d"
   ]
  },
  {
   "cell_type": "code",
   "execution_count": 14,
   "id": "579db486",
   "metadata": {},
   "outputs": [],
   "source": [
    "students = [\n",
    "    {'name':'홍길동', 'score':90},\n",
    "    {'name':'김길동', 'score':50},\n",
    "    {'name':'윤길동', 'score':99},\n",
    "    {'score':100}\n",
    "]"
   ]
  },
  {
   "cell_type": "code",
   "execution_count": 15,
   "id": "d391f572",
   "metadata": {},
   "outputs": [
    {
     "data": {
      "text/plain": [
       "[{'name': '김길동', 'score': 50},\n",
       " {'name': '윤길동', 'score': 99},\n",
       " {'name': '홍길동', 'score': 90},\n",
       " {'score': 100}]"
      ]
     },
     "execution_count": 15,
     "metadata": {},
     "output_type": "execute_result"
    }
   ],
   "source": [
    "# 이름순으로 정렬(ㄱㄴㄷ순)\n",
    "students.sort(key = lambda item : item.get('name','힣'))\n",
    "students"
   ]
  },
  {
   "cell_type": "code",
   "execution_count": 18,
   "id": "f8e22ff4",
   "metadata": {
    "scrolled": true
   },
   "outputs": [
    {
     "data": {
      "text/plain": [
       "[{'score': 100},\n",
       " {'name': '윤길동', 'score': 99},\n",
       " {'name': '홍길동', 'score': 90},\n",
       " {'name': '김길동', 'score': 50}]"
      ]
     },
     "execution_count": 18,
     "metadata": {},
     "output_type": "execute_result"
    }
   ],
   "source": [
    "# score 순으로 정렬(내림차순 정렬 : reverse =True)\n",
    "students.sort(key = lambda item : item.get('score', 0), reverse=True)\n",
    "students"
   ]
  },
  {
   "cell_type": "code",
   "execution_count": 19,
   "id": "6346386c",
   "metadata": {},
   "outputs": [],
   "source": [
    "# 책제목순 정렬(ㄱㄴㄷ), 저자순(ㄱㄴㄷ), 가격순 오름차순정렬\n",
    "books = [\n",
    "    {'no':1, 'title':'강남 아파트 인사이트', 'writer':'오스를', 'price':'25,000'}, \n",
    "    {'no':2, 'title':'단 한 번의 삶', 'writer':'김영하', 'price':'18,100'},\n",
    "    {'no':3, 'title':'흔한남매 19', 'writer':'백난도', 'price':'14,220'},\n",
    "    {'no':4, 'title':'가격이잘못', 'writer':'홍길동', 'price':'0'},\n",
    "    {'no':5, 'title':'가격이숫자', 'writer':'이길동', 'price':'900'},\n",
    "    {'no':6, 'title':'가격이없음', 'writer':'김길동', 'price':'0'},\n",
    "]"
   ]
  },
  {
   "cell_type": "code",
   "execution_count": 20,
   "id": "b89052bb",
   "metadata": {},
   "outputs": [
    {
     "data": {
      "text/plain": [
       "[{'no': 5, 'title': '가격이숫자', 'writer': '이길동', 'price': '900'},\n",
       " {'no': 6, 'title': '가격이없음', 'writer': '김길동', 'price': '0'},\n",
       " {'no': 4, 'title': '가격이잘못', 'writer': '홍길동', 'price': '0'},\n",
       " {'no': 1, 'title': '강남 아파트 인사이트', 'writer': '오스를', 'price': '25,000'},\n",
       " {'no': 2, 'title': '단 한 번의 삶', 'writer': '김영하', 'price': '18,100'},\n",
       " {'no': 3, 'title': '흔한남매 19', 'writer': '백난도', 'price': '14,220'}]"
      ]
     },
     "execution_count": 20,
     "metadata": {},
     "output_type": "execute_result"
    }
   ],
   "source": [
    "books.sort(key = lambda book : book.get('title'))\n",
    "books"
   ]
  },
  {
   "cell_type": "code",
   "execution_count": 27,
   "id": "334bf18a",
   "metadata": {
    "scrolled": true
   },
   "outputs": [
    {
     "data": {
      "text/plain": [
       "[{'no': 6, 'title': '가격이없음', 'writer': '김길동', 'price': '0'},\n",
       " {'no': 4, 'title': '가격이잘못', 'writer': '홍길동', 'price': '0'},\n",
       " {'no': 3, 'title': '흔한남매 19', 'writer': '백난도', 'price': '14,220'},\n",
       " {'no': 2, 'title': '단 한 번의 삶', 'writer': '김영하', 'price': '18,100'},\n",
       " {'no': 1, 'title': '강남 아파트 인사이트', 'writer': '오스를', 'price': '25,000'},\n",
       " {'no': 5, 'title': '가격이숫자', 'writer': '이길동', 'price': '900'}]"
      ]
     },
     "execution_count": 27,
     "metadata": {},
     "output_type": "execute_result"
    }
   ],
   "source": [
    "books.sort(key = lambda book : book.get('price', 0))\n",
    "books"
   ]
  },
  {
   "cell_type": "code",
   "execution_count": 32,
   "id": "076fcc2d",
   "metadata": {},
   "outputs": [],
   "source": [
    "# '14,000' -> 14000 / \"2000\" -> 2000 /'-' -> 0\n",
    "def parse_int(price):\n",
    "#    print(type(price))\n",
    "    if isinstance(price, str) & price.replace(',','').isdigit():\n",
    "        return int(price.replace(',',''))               \n",
    "    elif isinstance(price, int):\n",
    "        return price"
   ]
  },
  {
   "cell_type": "code",
   "execution_count": 33,
   "id": "c08d6d9e",
   "metadata": {},
   "outputs": [
    {
     "data": {
      "text/plain": [
       "(8000, 8000, 800, None)"
      ]
     },
     "execution_count": 33,
     "metadata": {},
     "output_type": "execute_result"
    }
   ],
   "source": [
    "parse_int(\"8,000\"), parse_int(\"8000\"), parse_int(800), parse_int('-')"
   ]
  },
  {
   "cell_type": "code",
   "execution_count": 38,
   "id": "365b4130",
   "metadata": {},
   "outputs": [
    {
     "data": {
      "text/plain": [
       "(0, 18100, 14220, 900)"
      ]
     },
     "execution_count": 38,
     "metadata": {},
     "output_type": "execute_result"
    }
   ],
   "source": [
    "# {'no':6, 'title':'가격이없음', 'writer':'김길동', 'price':'0'} => 0\n",
    "# {'no':3, 'title':'흔한남매 19', 'writer':'백난도', 'price':'14,220'} => 14220\n",
    "# {'no':5, 'title':'가격이숫자', 'writer':'이길동', 'price':'900'} => 900\n",
    "def parse_int(book):\n",
    "    if isinstance(book.get('price'), str) and \\\n",
    "            book.get('price').replace(',','').isdigit():\n",
    "        return int(book.get('price').replace(',',''))\n",
    "    elif isinstance(book.get('price'), int):\n",
    "        return book.get('price')\n",
    "    else:\n",
    "        return 0\n",
    "parse_int(books[0]), parse_int(books[3]), parse_int(books[2]), parse_int(books[5])"
   ]
  },
  {
   "cell_type": "code",
   "execution_count": 46,
   "id": "951b8099",
   "metadata": {},
   "outputs": [],
   "source": [
    "books =[\n",
    "    {'no':1, 'title':'강남 아파트 인사이트', 'writer':'오스를', 'price':'25,000'}, \n",
    "    {'no':2, 'title':'단 한 번의 삶', 'writer':'김영하', 'price':'18,100'},\n",
    "    {'no':3, 'title':'흔한남매 19', 'writer':'백난도', 'price':'14,220'},\n",
    "    {'no':4, 'title':'가격이잘못', 'writer':'홍길동', 'price':'-'},\n",
    "    {'no':5, 'title':'가격이숫자', 'writer':'이길동', 'price':'900'},\n",
    "    {'no':6, 'title':'가격이없음', 'writer':'김길동'},\n",
    "]\n",
    "copy_books = books.copy() # 깊은 복사"
   ]
  },
  {
   "cell_type": "code",
   "execution_count": 47,
   "id": "3ef05f21",
   "metadata": {},
   "outputs": [],
   "source": [
    "copy_books.sort(key = lambda book :\n",
    "              int(book.get('price').replace(',','')) \\\n",
    "              if isinstance(book.get('price'), str) and\\\n",
    "              book.get('price').replace(',','').isdigit() else\\\n",
    "               book.get('price') if isinstance(book.get('price'), int) else \\\n",
    "               0)"
   ]
  },
  {
   "cell_type": "code",
   "execution_count": 48,
   "id": "f67434b1",
   "metadata": {},
   "outputs": [
    {
     "data": {
      "text/plain": [
       "25000"
      ]
     },
     "execution_count": 48,
     "metadata": {},
     "output_type": "execute_result"
    }
   ],
   "source": [
    "# 람다식 테스트 확인\n",
    "(lambda book : \n",
    "                int(book.get('price').replace(',','')) \\\n",
    "                    if isinstance(book.get('price'), str) and \\\n",
    "                        book.get('price').replace(',','').isdigit() else \\\n",
    "                book.get('price') if isinstance(book.get('price'), int) else \\\n",
    "                0 )(books[0])\n"
   ]
  },
  {
   "cell_type": "code",
   "execution_count": 49,
   "id": "6c765c6e",
   "metadata": {},
   "outputs": [
    {
     "data": {
      "text/plain": [
       "[{'no': 4, 'title': '가격이잘못', 'writer': '홍길동', 'price': '-'},\n",
       " {'no': 6, 'title': '가격이없음', 'writer': '김길동'},\n",
       " {'no': 5, 'title': '가격이숫자', 'writer': '이길동', 'price': '900'},\n",
       " {'no': 3, 'title': '흔한남매 19', 'writer': '백난도', 'price': '14,220'},\n",
       " {'no': 2, 'title': '단 한 번의 삶', 'writer': '김영하', 'price': '18,100'},\n",
       " {'no': 1, 'title': '강남 아파트 인사이트', 'writer': '오스를', 'price': '25,000'}]"
      ]
     },
     "execution_count": 49,
     "metadata": {},
     "output_type": "execute_result"
    }
   ],
   "source": [
    "copy_books"
   ]
  },
  {
   "cell_type": "code",
   "execution_count": 50,
   "id": "61788d77",
   "metadata": {},
   "outputs": [
    {
     "data": {
      "text/plain": [
       "[{'no': 1, 'title': '강남 아파트 인사이트', 'writer': '오스를', 'price': '25,000'},\n",
       " {'no': 2, 'title': '단 한 번의 삶', 'writer': '김영하', 'price': '18,100'},\n",
       " {'no': 3, 'title': '흔한남매 19', 'writer': '백난도', 'price': '14,220'},\n",
       " {'no': 4, 'title': '가격이잘못', 'writer': '홍길동', 'price': '-'},\n",
       " {'no': 5, 'title': '가격이숫자', 'writer': '이길동', 'price': '900'},\n",
       " {'no': 6, 'title': '가격이없음', 'writer': '김길동'}]"
      ]
     },
     "execution_count": 50,
     "metadata": {},
     "output_type": "execute_result"
    }
   ],
   "source": [
    "books"
   ]
  },
  {
   "cell_type": "markdown",
   "id": "dcf909c8",
   "metadata": {},
   "source": [
    "## 4.3 return 문에 람다식 이용"
   ]
  },
  {
   "cell_type": "code",
   "execution_count": 11,
   "id": "7c0d1f2f",
   "metadata": {},
   "outputs": [],
   "source": [
    "# 함수를 return\n",
    "def make_box(shape): # shape : [l]=>len가 l인 list를 생성하는 함수 return,\n",
    "                    #          [r,c] => r행 c열인 2차원 list를 생성하는 함수 return\n",
    "    def box(init_value):\n",
    "        if len(shape)==1:\n",
    "            return [init_value]*shape[0]\n",
    "        elif len(shape)==2:\n",
    "            return [ [init_value]*shape[1] ] * shape[0]\n",
    "    return box"
   ]
  },
  {
   "cell_type": "code",
   "execution_count": 12,
   "id": "910e6e11",
   "metadata": {},
   "outputs": [],
   "source": [
    "def make_box(shape):\n",
    "    if len(shape)==1:\n",
    "        return lambda init_value : [init_value]*shape[0]\n",
    "    elif len(shape)==2:\n",
    "        return lambda init_value : [ [init_value]*shape[1] ] * shape[0]"
   ]
  },
  {
   "cell_type": "code",
   "execution_count": 13,
   "id": "040cd043",
   "metadata": {},
   "outputs": [
    {
     "data": {
      "text/plain": [
       "[[3, 3, 3], [3, 3, 3]]"
      ]
     },
     "execution_count": 13,
     "metadata": {},
     "output_type": "execute_result"
    }
   ],
   "source": [
    "line_func = make_box([2,3])\n",
    "line_func(3)"
   ]
  },
  {
   "cell_type": "code",
   "execution_count": 14,
   "id": "a607ebc0",
   "metadata": {},
   "outputs": [
    {
     "data": {
      "text/plain": [
       "[3, 3, 3, 3, 3, 3, 3, 3, 3, 3]"
      ]
     },
     "execution_count": 14,
     "metadata": {},
     "output_type": "execute_result"
    }
   ],
   "source": [
    "line_func1 = make_box([10])\n",
    "line_func1(3)"
   ]
  },
  {
   "cell_type": "markdown",
   "id": "e071f9a9",
   "metadata": {},
   "source": [
    "# 5절. 파이썬 내장함수\n",
    "- import 하지않고 바로 사용 가능한 함수\n",
    "- 키워드처럼 간주되므로, 식별자(변수명, 함수명, 클래스명)로 사용하는 것을 피한다"
   ]
  },
  {
   "cell_type": "code",
   "execution_count": 15,
   "id": "0f766bac",
   "metadata": {},
   "outputs": [
    {
     "data": {
      "text/plain": [
       "{'__name__': '__main__',\n",
       " '__doc__': 'Automatically created module for IPython interactive environment',\n",
       " '__package__': None,\n",
       " '__loader__': None,\n",
       " '__spec__': None,\n",
       " '__builtin__': <module 'builtins' (built-in)>,\n",
       " '__builtins__': <module 'builtins' (built-in)>,\n",
       " '_ih': ['',\n",
       "  '# 함수를 return\\ndef make_box(shape):\\n# shape : [l]=>len가 L인 list를 생성하는 함수 return\\n#       [r,c]=> r행 c열인 list를 생성하는 함수 return\\n#     [d,r,c]=> d면 r행 c열 3차원 list를 생성하는 함수\\n    def box(init_value):\\n        if len(shape):\\n            return [init_value]*shape[0]\\n        elif len(shape)==2:\\n            return [ [init_value]*shape[1] ] * shape[0]\\n    return box',\n",
       "  'def make_box(shape):\\n    if len(shape)==1:\\n        return lambda init_value : [init_value]*shape[0]\\n    elif len(shape)==2:\\n        return lambda init_value : [ [init_value]*shape]',\n",
       "  'line_func = make_box([2,3])\\nline_func(3)',\n",
       "  'all([True, True, True, False]) # ',\n",
       "  'round(3,5) # 반올림',\n",
       "  'round(3.5) # 반올림',\n",
       "  'import numpy as np # numpy 모듈을 np라는 이름으로 Load\\nnp.round(3.5), np.cell(3.5)',\n",
       "  'import numpy as np # numpy 모듈을 np라는 이름으로 Load\\nnp.round(3.5), np.cell(3.5), np.floor(3.9) #반올림, 올림, 내림',\n",
       "  'import numpy as np # numpy 모듈을 np라는 이름으로 Load\\nnp.round(3.5), np.ceil(3.5), np.floor(3.9) #반올림, 올림, 내림',\n",
       "  'line_func = make_box([2,3])\\nline_func(3)',\n",
       "  '# 함수를 return\\ndef make_box(shape): # shape : [l]=>len가 l인 list를 생성하는 함수 return,\\n                    #          [r,c] => r행 c열인 2차원 list를 생성하는 함수 return\\n    def box(init_value):\\n        if len(shape)==1:\\n            return [init_value]*shape[0]\\n        elif len(shape)==2:\\n            return [ [init_value]*shape[1] ] * shape[0]\\n    return box',\n",
       "  'def make_box(shape):\\n    if len(shape)==1:\\n        return lambda init_value : [init_value]*shape[0]\\n    elif len(shape)==2:\\n        return lambda init_value : [ [init_value]*shape[1] ] * shape[0]',\n",
       "  'line_func = make_box([2,3])\\nline_func(3)',\n",
       "  'line_func1 = make_box([10])\\nline_func1(3)',\n",
       "  'globals() # 전역변수 리스트'],\n",
       " '_oh': {4: False,\n",
       "  5: 3,\n",
       "  6: 4,\n",
       "  9: (4.0, 4.0, 3.0),\n",
       "  13: [[3, 3, 3], [3, 3, 3]],\n",
       "  14: [3, 3, 3, 3, 3, 3, 3, 3, 3, 3]},\n",
       " '_dh': [WindowsPath('C:/ai_x_Kyoung tae/source/01_python')],\n",
       " 'In': ['',\n",
       "  '# 함수를 return\\ndef make_box(shape):\\n# shape : [l]=>len가 L인 list를 생성하는 함수 return\\n#       [r,c]=> r행 c열인 list를 생성하는 함수 return\\n#     [d,r,c]=> d면 r행 c열 3차원 list를 생성하는 함수\\n    def box(init_value):\\n        if len(shape):\\n            return [init_value]*shape[0]\\n        elif len(shape)==2:\\n            return [ [init_value]*shape[1] ] * shape[0]\\n    return box',\n",
       "  'def make_box(shape):\\n    if len(shape)==1:\\n        return lambda init_value : [init_value]*shape[0]\\n    elif len(shape)==2:\\n        return lambda init_value : [ [init_value]*shape]',\n",
       "  'line_func = make_box([2,3])\\nline_func(3)',\n",
       "  'all([True, True, True, False]) # ',\n",
       "  'round(3,5) # 반올림',\n",
       "  'round(3.5) # 반올림',\n",
       "  'import numpy as np # numpy 모듈을 np라는 이름으로 Load\\nnp.round(3.5), np.cell(3.5)',\n",
       "  'import numpy as np # numpy 모듈을 np라는 이름으로 Load\\nnp.round(3.5), np.cell(3.5), np.floor(3.9) #반올림, 올림, 내림',\n",
       "  'import numpy as np # numpy 모듈을 np라는 이름으로 Load\\nnp.round(3.5), np.ceil(3.5), np.floor(3.9) #반올림, 올림, 내림',\n",
       "  'line_func = make_box([2,3])\\nline_func(3)',\n",
       "  '# 함수를 return\\ndef make_box(shape): # shape : [l]=>len가 l인 list를 생성하는 함수 return,\\n                    #          [r,c] => r행 c열인 2차원 list를 생성하는 함수 return\\n    def box(init_value):\\n        if len(shape)==1:\\n            return [init_value]*shape[0]\\n        elif len(shape)==2:\\n            return [ [init_value]*shape[1] ] * shape[0]\\n    return box',\n",
       "  'def make_box(shape):\\n    if len(shape)==1:\\n        return lambda init_value : [init_value]*shape[0]\\n    elif len(shape)==2:\\n        return lambda init_value : [ [init_value]*shape[1] ] * shape[0]',\n",
       "  'line_func = make_box([2,3])\\nline_func(3)',\n",
       "  'line_func1 = make_box([10])\\nline_func1(3)',\n",
       "  'globals() # 전역변수 리스트'],\n",
       " 'Out': {4: False,\n",
       "  5: 3,\n",
       "  6: 4,\n",
       "  9: (4.0, 4.0, 3.0),\n",
       "  13: [[3, 3, 3], [3, 3, 3]],\n",
       "  14: [3, 3, 3, 3, 3, 3, 3, 3, 3, 3]},\n",
       " 'get_ipython': <bound method InteractiveShell.get_ipython of <ipykernel.zmqshell.ZMQInteractiveShell object at 0x000001B012213D60>>,\n",
       " 'exit': <IPython.core.autocall.ZMQExitAutocall at 0x1b0122235e0>,\n",
       " 'quit': <IPython.core.autocall.ZMQExitAutocall at 0x1b0122235e0>,\n",
       " 'open': <function io.open(file, mode='r', buffering=-1, encoding=None, errors=None, newline=None, closefd=True, opener=None)>,\n",
       " '_': [3, 3, 3, 3, 3, 3, 3, 3, 3, 3],\n",
       " '__': [[3, 3, 3], [3, 3, 3]],\n",
       " '___': (4.0, 4.0, 3.0),\n",
       " '_i': 'line_func1 = make_box([10])\\nline_func1(3)',\n",
       " '_ii': 'line_func = make_box([2,3])\\nline_func(3)',\n",
       " '_iii': 'def make_box(shape):\\n    if len(shape)==1:\\n        return lambda init_value : [init_value]*shape[0]\\n    elif len(shape)==2:\\n        return lambda init_value : [ [init_value]*shape[1] ] * shape[0]',\n",
       " '_i1': '# 함수를 return\\ndef make_box(shape):\\n# shape : [l]=>len가 L인 list를 생성하는 함수 return\\n#       [r,c]=> r행 c열인 list를 생성하는 함수 return\\n#     [d,r,c]=> d면 r행 c열 3차원 list를 생성하는 함수\\n    def box(init_value):\\n        if len(shape):\\n            return [init_value]*shape[0]\\n        elif len(shape)==2:\\n            return [ [init_value]*shape[1] ] * shape[0]\\n    return box',\n",
       " 'make_box': <function __main__.make_box(shape)>,\n",
       " '_i2': 'def make_box(shape):\\n    if len(shape)==1:\\n        return lambda init_value : [init_value]*shape[0]\\n    elif len(shape)==2:\\n        return lambda init_value : [ [init_value]*shape]',\n",
       " '_i3': 'line_func = make_box([2,3])\\nline_func(3)',\n",
       " 'line_func': <function __main__.make_box.<locals>.<lambda>(init_value)>,\n",
       " '_i4': 'all([True, True, True, False]) # ',\n",
       " '_4': False,\n",
       " '_i5': 'round(3,5) # 반올림',\n",
       " '_5': 3,\n",
       " '_i6': 'round(3.5) # 반올림',\n",
       " '_6': 4,\n",
       " '_i7': 'import numpy as np # numpy 모듈을 np라는 이름으로 Load\\nnp.round(3.5), np.cell(3.5)',\n",
       " 'np': <module 'numpy' from 'C:\\\\Users\\\\Admin\\\\anaconda3\\\\lib\\\\site-packages\\\\numpy\\\\__init__.py'>,\n",
       " '_i8': 'import numpy as np # numpy 모듈을 np라는 이름으로 Load\\nnp.round(3.5), np.cell(3.5), np.floor(3.9) #반올림, 올림, 내림',\n",
       " '_i9': 'import numpy as np # numpy 모듈을 np라는 이름으로 Load\\nnp.round(3.5), np.ceil(3.5), np.floor(3.9) #반올림, 올림, 내림',\n",
       " '_9': (4.0, 4.0, 3.0),\n",
       " '_i10': 'line_func = make_box([2,3])\\nline_func(3)',\n",
       " '_i11': '# 함수를 return\\ndef make_box(shape): # shape : [l]=>len가 l인 list를 생성하는 함수 return,\\n                    #          [r,c] => r행 c열인 2차원 list를 생성하는 함수 return\\n    def box(init_value):\\n        if len(shape)==1:\\n            return [init_value]*shape[0]\\n        elif len(shape)==2:\\n            return [ [init_value]*shape[1] ] * shape[0]\\n    return box',\n",
       " '_i12': 'def make_box(shape):\\n    if len(shape)==1:\\n        return lambda init_value : [init_value]*shape[0]\\n    elif len(shape)==2:\\n        return lambda init_value : [ [init_value]*shape[1] ] * shape[0]',\n",
       " '_i13': 'line_func = make_box([2,3])\\nline_func(3)',\n",
       " '_13': [[3, 3, 3], [3, 3, 3]],\n",
       " '_i14': 'line_func1 = make_box([10])\\nline_func1(3)',\n",
       " 'line_func1': <function __main__.make_box.<locals>.<lambda>(init_value)>,\n",
       " '_14': [3, 3, 3, 3, 3, 3, 3, 3, 3, 3],\n",
       " '_i15': 'globals() # 전역변수 리스트'}"
      ]
     },
     "execution_count": 15,
     "metadata": {},
     "output_type": "execute_result"
    }
   ],
   "source": [
    "globals() # 전역변수 리스트"
   ]
  },
  {
   "cell_type": "code",
   "execution_count": 4,
   "id": "ccf35aee",
   "metadata": {},
   "outputs": [
    {
     "data": {
      "text/plain": [
       "False"
      ]
     },
     "execution_count": 4,
     "metadata": {},
     "output_type": "execute_result"
    }
   ],
   "source": [
    "all([True, True, True, False]) # True인지 여부"
   ]
  },
  {
   "cell_type": "code",
   "execution_count": 6,
   "id": "b41823aa",
   "metadata": {},
   "outputs": [
    {
     "data": {
      "text/plain": [
       "4"
      ]
     },
     "execution_count": 6,
     "metadata": {},
     "output_type": "execute_result"
    }
   ],
   "source": [
    "round(3.5) # 반올림"
   ]
  },
  {
   "cell_type": "code",
   "execution_count": 9,
   "id": "0c7877b1",
   "metadata": {},
   "outputs": [
    {
     "data": {
      "text/plain": [
       "(4.0, 4.0, 3.0)"
      ]
     },
     "execution_count": 9,
     "metadata": {},
     "output_type": "execute_result"
    }
   ],
   "source": [
    "import numpy as np # numpy 모듈을 np라는 이름으로 Load\n",
    "np.round(3.5), np.ceil(3.5), np.floor(3.9) #반올림, 올림, 내림"
   ]
  },
  {
   "cell_type": "code",
   "execution_count": null,
   "id": "7f119807",
   "metadata": {},
   "outputs": [],
   "source": []
  },
  {
   "cell_type": "code",
   "execution_count": 17,
   "id": "8c8ca7c7",
   "metadata": {},
   "outputs": [
    {
     "data": {
      "text/plain": [
       "(6, 1)"
      ]
     },
     "execution_count": 17,
     "metadata": {},
     "output_type": "execute_result"
    }
   ],
   "source": [
    "# 실습형 1. 정수값에 대한 최대값과 최소값을 리턴\n",
    "def get_max_min(data_list):\n",
    "    return max(data_list), min(data_list)\n",
    "    \n",
    "get_max_min = lambda data_list : (max(data_list), min(data_list))\n",
    "get_max_min([1,2,3,4,5,6,])"
   ]
  },
  {
   "cell_type": "code",
   "execution_count": 21,
   "id": "8471c5e7",
   "metadata": {},
   "outputs": [
    {
     "name": "stdout",
     "output_type": "stream",
     "text": [
      "표준\n"
     ]
    }
   ],
   "source": [
    "# 실습형 2. BMI값에 따라 비만도 출력\n",
    "def getBMI(kg, m):\n",
    "    bmi = kg / (m**2)\n",
    "    if bmi < 18.5:\n",
    "        print('마른체형')\n",
    "    elif 18.5 <= bmi < 25:\n",
    "            print('표준')\n",
    "    elif 25 <= bmi < 30:\n",
    "            print('비만')\n",
    "    else:\n",
    "            print('고도비만')\n",
    "getBMI(70, 1.73)"
   ]
  },
  {
   "cell_type": "code",
   "execution_count": 22,
   "id": "08df163b",
   "metadata": {},
   "outputs": [
    {
     "data": {
      "text/plain": [
       "{'넓이': 6.0, '둘레': 12.0}"
      ]
     },
     "execution_count": 22,
     "metadata": {},
     "output_type": "execute_result"
    }
   ],
   "source": [
    "# 실습형 3. 직각삼각형 밑변(a)/높이(b) -> 삼각형의 면적과 둘레 계산\n",
    "import math\n",
    "def get_triangle(width, height):\n",
    "    area = width * height * 0.5\n",
    "    perimeter = width + height + math.sqrt(width*width + height*height)\n",
    "    return {'넓이':area, '둘레':perimeter}\n",
    "get_triangle(3,4)"
   ]
  },
  {
   "cell_type": "code",
   "execution_count": 23,
   "id": "695ed111",
   "metadata": {},
   "outputs": [
    {
     "data": {
      "text/plain": [
       "5.0"
      ]
     },
     "execution_count": 23,
     "metadata": {},
     "output_type": "execute_result"
    }
   ],
   "source": [
    "# 제곱근을 구하는 함수\n",
    "import math\n",
    "math.sqrt(25)"
   ]
  },
  {
   "cell_type": "code",
   "execution_count": 25,
   "id": "5d5bf965",
   "metadata": {},
   "outputs": [
    {
     "data": {
      "text/plain": [
       "10"
      ]
     },
     "execution_count": 25,
     "metadata": {},
     "output_type": "execute_result"
    }
   ],
   "source": [
    "# 실습형 4. fRom~end까지 모든 정수값의 합을 리턴\n",
    "def mysum(fRom, end):\n",
    "    sum = 0\n",
    "    for i in range(fRom, end+1):\n",
    "        sum += i\n",
    "        return sum\n",
    "mysum(10,12) # 10부터 12까지"
   ]
  },
  {
   "cell_type": "code",
   "execution_count": null,
   "id": "6a1de969",
   "metadata": {},
   "outputs": [],
   "source": [
    "# 실습형 5. 각 문자열의 첫 세글자로만 구성된 리스트를 리턴하는 함수와 람다식 작성\n",
    "•예를 들어 함수의 입력으로 [‘Seoul’, ‘Daegu’, ‘Kwangju’, ‘Jeju’]가 입력될 때 함수의 리턴값은 [‘Seo’, ‘Dae’, ‘Kwa’,’Jej’]\n",
    "•def get_abbrs(lst):"
   ]
  },
  {
   "cell_type": "code",
   "execution_count": null,
   "id": "6c2e1a59",
   "metadata": {},
   "outputs": [],
   "source": [
    "# 실습형 6. 람다 함수 형태로 수정할 때 알맞은 코드\n",
    "# def f(x, y):  return x ** y\n",
    "\n"
   ]
  },
  {
   "cell_type": "code",
   "execution_count": null,
   "id": "68cec259",
   "metadata": {},
   "outputs": [],
   "source": [
    "# 실습형 7. map()함수를 사용해 구현, 리스트 컴프리헨션\n",
    "\n"
   ]
  },
  {
   "cell_type": "code",
   "execution_count": null,
   "id": "51b62e89",
   "metadata": {},
   "outputs": [],
   "source": [
    "# 실습형 8."
   ]
  },
  {
   "cell_type": "code",
   "execution_count": 28,
   "id": "471fd6c4",
   "metadata": {
    "scrolled": true
   },
   "outputs": [
    {
     "ename": "NameError",
     "evalue": "name 'date_info' is not defined",
     "output_type": "error",
     "traceback": [
      "\u001b[1;31m---------------------\u001b[0m",
      "\u001b[1;31mNameError\u001b[0mTraceback (most recent call last)",
      "Cell \u001b[1;32mIn[28], line 3\u001b[0m\n\u001b[0;32m      1\u001b[0m \u001b[38;5;66;03m# 실습형 9.\u001b[39;00m\n\u001b[0;32m      2\u001b[0m data_info \u001b[38;5;241m=\u001b[39m {\u001b[38;5;124m'\u001b[39m\u001b[38;5;124myear\u001b[39m\u001b[38;5;124m'\u001b[39m:\u001b[38;5;241m2024\u001b[39m, \u001b[38;5;124m'\u001b[39m\u001b[38;5;124mmonth\u001b[39m\u001b[38;5;124m'\u001b[39m:\u001b[38;5;241m9\u001b[39m, \u001b[38;5;124m'\u001b[39m\u001b[38;5;124mday\u001b[39m\u001b[38;5;124m'\u001b[39m:\u001b[38;5;241m6\u001b[39m}\n\u001b[1;32m----> 3\u001b[0m result \u001b[38;5;241m=\u001b[39m \u001b[38;5;124m'\u001b[39m\u001b[38;5;132;01m{year}\u001b[39;00m\u001b[38;5;124m-\u001b[39m\u001b[38;5;132;01m{month}\u001b[39;00m\u001b[38;5;124m-\u001b[39m\u001b[38;5;132;01m{day}\u001b[39;00m\u001b[38;5;124m'\u001b[39m\u001b[38;5;241m.\u001b[39mformat(\u001b[38;5;241m*\u001b[39m\u001b[38;5;241m*\u001b[39m\u001b[43mdate_info\u001b[49m)\n\u001b[0;32m      4\u001b[0m result\n",
      "\u001b[1;31mNameError\u001b[0m: name 'date_info' is not defined"
     ]
    }
   ],
   "source": [
    "# 실습형 9.\n",
    "# data_info = {'year':2024, 'month':9, 'day':6}\n",
    "# result = '{year}-{month}-{day}'.format(**date_info)\n",
    "# result"
   ]
  },
  {
   "cell_type": "code",
   "execution_count": 31,
   "id": "e9b2b171",
   "metadata": {},
   "outputs": [
    {
     "ename": "SyntaxError",
     "evalue": "invalid syntax (1723734864.py, line 9)",
     "output_type": "error",
     "traceback": [
      "\u001b[1;36m  Cell \u001b[1;32mIn[31], line 9\u001b[1;36m\u001b[0m\n\u001b[1;33m    vector_size_check([10, 20], (100,200), {'name','홍', 'age':20}, {1, 2})\u001b[0m\n\u001b[1;37m                                                             ^\u001b[0m\n\u001b[1;31mSyntaxError\u001b[0m\u001b[1;31m:\u001b[0m invalid syntax\n"
     ]
    }
   ],
   "source": [
    "# 실습형 10. 리스트\n",
    "def vector_size_check(*vector_var):\n",
    "    result = set()\n",
    "    for vector in vector_var:\n",
    "        result.add(len(vector))\n",
    "    return len(result)==1\n",
    "def vector_size_check(*vector_var):\n",
    "    return len(set([len(vector) for vector in vector_var]))==1\n",
    "vector_size_check([10, 20], (100,200), {'name','홍', 'age':20}, {1, 2})"
   ]
  },
  {
   "cell_type": "code",
   "execution_count": null,
   "id": "5d54d625",
   "metadata": {},
   "outputs": [],
   "source": [
    "vector_size_check([10,20], (100,), {'name':'홍', 'age':20}, {1, 2})"
   ]
  },
  {
   "cell_type": "code",
   "execution_count": null,
   "id": "64c8a690",
   "metadata": {},
   "outputs": [],
   "source": [
    "# 실습형 10.\n",
    "# 입력받은 n개의 벡터(리스트, 튜플, 셋)의 크기들이 같은지 여부 return : 셋 이용\n",
    "def vector_size_check(*vector_var):\n",
    "    result = []\n",
    "    for vector in vactor_var:\n",
    "        result.append(len(vector))\n",
    "        return all(result)"
   ]
  },
  {
   "cell_type": "code",
   "execution_count": null,
   "id": "08c0494f",
   "metadata": {},
   "outputs": [],
   "source": [
    "# 실습형 11."
   ]
  },
  {
   "cell_type": "code",
   "execution_count": null,
   "id": "c26195b0",
   "metadata": {},
   "outputs": [],
   "source": []
  },
  {
   "cell_type": "code",
   "execution_count": null,
   "id": "5358533d",
   "metadata": {},
   "outputs": [],
   "source": []
  },
  {
   "cell_type": "code",
   "execution_count": null,
   "id": "76dd2449",
   "metadata": {},
   "outputs": [],
   "source": []
  },
  {
   "cell_type": "code",
   "execution_count": null,
   "id": "91cd68da",
   "metadata": {},
   "outputs": [],
   "source": []
  },
  {
   "cell_type": "code",
   "execution_count": null,
   "id": "57bf66fa",
   "metadata": {},
   "outputs": [],
   "source": []
  },
  {
   "cell_type": "code",
   "execution_count": null,
   "id": "1643756d",
   "metadata": {},
   "outputs": [],
   "source": []
  },
  {
   "cell_type": "code",
   "execution_count": null,
   "id": "ef4e6deb",
   "metadata": {},
   "outputs": [],
   "source": []
  },
  {
   "cell_type": "code",
   "execution_count": null,
   "id": "db173d7a",
   "metadata": {},
   "outputs": [],
   "source": []
  },
  {
   "cell_type": "code",
   "execution_count": null,
   "id": "cc958855",
   "metadata": {},
   "outputs": [],
   "source": []
  },
  {
   "cell_type": "code",
   "execution_count": null,
   "id": "bce5092b",
   "metadata": {},
   "outputs": [],
   "source": []
  },
  {
   "cell_type": "code",
   "execution_count": null,
   "id": "505cf591",
   "metadata": {},
   "outputs": [],
   "source": []
  },
  {
   "cell_type": "code",
   "execution_count": null,
   "id": "d4c4921b",
   "metadata": {},
   "outputs": [],
   "source": []
  }
 ],
 "metadata": {
  "kernelspec": {
   "display_name": "Python 3 (ipykernel)",
   "language": "python",
   "name": "python3"
  },
  "language_info": {
   "codemirror_mode": {
    "name": "ipython",
    "version": 3
   },
   "file_extension": ".py",
   "mimetype": "text/x-python",
   "name": "python",
   "nbconvert_exporter": "python",
   "pygments_lexer": "ipython3",
   "version": "3.10.9"
  },
  "toc": {
   "base_numbering": 1,
   "nav_menu": {},
   "number_sections": false,
   "sideBar": true,
   "skip_h1_title": false,
   "title_cell": "Table of Contents",
   "title_sidebar": "Contents",
   "toc_cell": false,
   "toc_position": {
    "height": "calc(100% - 180px)",
    "left": "10px",
    "top": "150px",
    "width": "267.969px"
   },
   "toc_section_display": true,
   "toc_window_display": true
  }
 },
 "nbformat": 4,
 "nbformat_minor": 5
}

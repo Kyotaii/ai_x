{
 "cells": [
  {
   "cell_type": "code",
   "execution_count": 2,
   "id": "ed1f59f3",
   "metadata": {},
   "outputs": [
    {
     "data": {
      "text/html": [
       "\n",
       "<style>\n",
       "div.container{width:86% !important;}\n",
       "div.cell.code_cell.rendered{width:100%;}\n",
       "div.CodeMirror {font-family:Consolas; font-size:15pt;}\n",
       "div.output {font-size:15pt; font-weight:bold;}\n",
       "div.input {font-family:Consolas; font-size:15pt;}\n",
       "div.prompt {min-width:70px;}\n",
       "div#toc-wrapper{padding-top:120px;}\n",
       "div.text_cell_render ul li{font-size:12pt;padding:5px;}\n",
       "table.dataframe{font-size:15px;}\n",
       "</style>\n"
      ],
      "text/plain": [
       "<IPython.core.display.HTML object>"
      ]
     },
     "metadata": {},
     "output_type": "display_data"
    }
   ],
   "source": [
    "from IPython.display import display, HTML\n",
    "display(HTML(\"\"\"\n",
    "<style>\n",
    "div.container{width:86% !important;}\n",
    "div.cell.code_cell.rendered{width:100%;}\n",
    "div.CodeMirror {font-family:Consolas; font-size:15pt;}\n",
    "div.output {font-size:15pt; font-weight:bold;}\n",
    "div.input {font-family:Consolas; font-size:15pt;}\n",
    "div.prompt {min-width:70px;}\n",
    "div#toc-wrapper{padding-top:120px;}\n",
    "div.text_cell_render ul li{font-size:12pt;padding:5px;}\n",
    "table.dataframe{font-size:15px;}\n",
    "</style>\n",
    "\"\"\"))"
   ]
  },
  {
   "cell_type": "markdown",
   "id": "1bffe1ca",
   "metadata": {},
   "source": [
    "<b><font color=\"red\" size=\"5\">ch08. 예외처리</font></b>\n",
    "# 1절. 예외처리\n",
    "- 예외가 날 가능성이 있는 부분에대해 미리 예방하고, 그에대한 처리를 프로그래밍하는 것(이유: 좀 더 안정적으로 실행)\n",
    "```\n",
    "ex. 파일을 다룰 때 : 파일이 없거나, 쓰기 금지로 인한 오류\n",
    "ex. 데이터베이스 프로그래밍시 제약조건 등으로 CRUD(Creat, Read, Update, Delete)\n",
    "ex. 네트워크 프로그래밍시 일시적이 네트워크 장애시 연결 실패 오류\n",
    "ex. 리스트나 튜플의인덱스를 벗어난 오류\n",
    "```"
   ]
  },
  {
   "cell_type": "code",
   "execution_count": 4,
   "id": "3ef4147a",
   "metadata": {},
   "outputs": [
    {
     "name": "stdout",
     "output_type": "stream",
     "text": [
      "파일명은(ch08.txt)?ch08.txt\n",
      "Hello\n",
      "World\n",
      "\n"
     ]
    }
   ],
   "source": [
    "filename = input('파일명은(ch08.txt)?')\n",
    "f = open('data/'+filename, 'r') # 읽기전용으로 파일을 열기\n",
    "print(f.read())\n",
    "f.close()"
   ]
  },
  {
   "cell_type": "markdown",
   "id": "427cbc07",
   "metadata": {},
   "source": [
    "# 2절. try~except 로 예외처리\n",
    "## 2.1 try~except\n",
    "```\n",
    "try:\n",
    "    예외가 발생할 가능성이 있는 명령어들\n",
    "except:\n",
    "    예외가 발생했을 경우 실행할 명령어들\n",
    "```"
   ]
  },
  {
   "cell_type": "code",
   "execution_count": 1,
   "id": "a23c337c",
   "metadata": {},
   "outputs": [
    {
     "name": "stdout",
     "output_type": "stream",
     "text": [
      "정수를 입력하세요 :\n"
     ]
    },
    {
     "ename": "ValueError",
     "evalue": "invalid literal for int() with base 10: ''",
     "output_type": "error",
     "traceback": [
      "\u001b[1;31m------------------------\u001b[0m",
      "\u001b[1;31mValueError\u001b[0mTraceback (most recent call last)",
      "Cell \u001b[1;32mIn[1], line 4\u001b[0m\n\u001b[0;32m      1\u001b[0m \u001b[38;5;66;03m# 100을 입력받은 정수값으로 나눠 출력\u001b[39;00m\n\u001b[0;32m      2\u001b[0m \u001b[38;5;66;03m# ZeroDivisionError: division by zero\u001b[39;00m\n\u001b[0;32m      3\u001b[0m \u001b[38;5;66;03m# ValueError : invalid literal for int() with base 10: 'a'\u001b[39;00m\n\u001b[1;32m----> 4\u001b[0m x \u001b[38;5;241m=\u001b[39m \u001b[38;5;28;43mint\u001b[39;49m\u001b[43m(\u001b[49m\u001b[38;5;28;43minput\u001b[39;49m\u001b[43m(\u001b[49m\u001b[38;5;124;43m'\u001b[39;49m\u001b[38;5;124;43m정수를 입력하세요 :\u001b[39;49m\u001b[38;5;124;43m'\u001b[39;49m\u001b[43m)\u001b[49m\u001b[43m)\u001b[49m\n\u001b[0;32m      5\u001b[0m \u001b[38;5;28mprint\u001b[39m(\u001b[38;5;124m'\u001b[39m\u001b[38;5;124m100을 입력한 정수로 나누면 (:.3f)\u001b[39m\u001b[38;5;124m'\u001b[39m\u001b[38;5;241m.\u001b[39mformat(\u001b[38;5;241m100\u001b[39m\u001b[38;5;241m/\u001b[39mx))\n",
      "\u001b[1;31mValueError\u001b[0m: invalid literal for int() with base 10: ''"
     ]
    }
   ],
   "source": [
    "# 100을 입력받은 정수값으로 나눠 출력\n",
    "# ZeroDivisionError: division by zero\n",
    "# ValueError : invalid literal for int() with base 10: 'a'\n",
    "x = int(input('정수를 입력하세요 :'))\n",
    "print('100을 입력한 정수로 나누면 (:.3f)'.format(100/x))"
   ]
  },
  {
   "cell_type": "code",
   "execution_count": 2,
   "id": "6013ce0b",
   "metadata": {},
   "outputs": [
    {
     "name": "stdout",
     "output_type": "stream",
     "text": [
      "정수를 입력하세요 :\n",
      "정수가 아닙니다\n"
     ]
    }
   ],
   "source": [
    "# 100을 입력받은 정수값으로 나눠 출력\n",
    "# ZeroDivisionError: division by zero\n",
    "# ValueError : invalid literal for int() with base 10: 'a'\n",
    "try:\n",
    "    x = int(input('정수를 입력하세요 :'))\n",
    "    print('x값 입력 받음', x)\n",
    "    print('100을 입력한 정수로 나누면 {:.3f}'.format(100/x))\n",
    "    print('예외가 발생 안됨')\n",
    "except:\n",
    "    print('정수가 아닙니다')"
   ]
  },
  {
   "cell_type": "code",
   "execution_count": null,
   "id": "406d8b34",
   "metadata": {},
   "outputs": [
    {
     "name": "stdout",
     "output_type": "stream",
     "text": [
      "정수를 입력하세요 :\n",
      "유효한 정수를 입력하세요\n"
     ]
    }
   ],
   "source": [
    "# 100을 나눈 유효한 정수를 입력할 때까지 입력받아\n",
    "# 유효한 정수를 입력하면, 100을 입력한 수로 나눈 결과를 출력\n",
    "# 나눈 결과가 .0으로 끝나면 정수를 결과를 출력/ .0으로 끝나지않으면 소수점 2자리까지 출력\n",
    "while True:\n",
    "    try:\n",
    "        x = int(input('정수를 입력하세요 :'))\n",
    "        result = 100/x\n",
    "        result = f\"{100/x:.0f}\" if round(result)==result else f\"{100/x:.2f}\"\n",
    "        print(result)\n",
    "        break\n",
    "    except:\n",
    "        print('유효한 정수를 입력하세요')\n",
    "# ZeroDivisionError: division by zero\n",
    "# ValueError : invalid literal for int() with base 10: 'a'"
   ]
  },
  {
   "cell_type": "markdown",
   "id": "1fa32950",
   "metadata": {},
   "source": [
    "## 2.2 예외를 지정한 처리\n",
    "```\n",
    "try:\n",
    "    예외가 발생할 수도 있는 문장들\n",
    "except:\n",
    "    해당 예외가 발생할 경우 실행할 문장\n",
    "except 예외타입:\n",
    "    해당 예외가 발생할 경우 실행할 문장\n",
    "```"
   ]
  },
  {
   "cell_type": "code",
   "execution_count": 1,
   "id": "c1ace74a",
   "metadata": {},
   "outputs": [
    {
     "name": "stdout",
     "output_type": "stream",
     "text": [
      "정수를 입력하세요 :1\n",
      "100\n"
     ]
    }
   ],
   "source": [
    "while True:\n",
    "    try:\n",
    "        x = int(input('정수를 입력하세요 :'))\n",
    "        result = 100/x\n",
    "        result = f\"{100/x:.0f}\" if round(result)==result else f\"{100/x:.2f}\"\n",
    "        print(result)\n",
    "        break\n",
    "    except (ZeroDivisionError, ValueError):\n",
    "        print('제대로 입력하세요')\n",
    "    except Exception:\n",
    "    # except절이 많은 경우 하위 클래스(자식클래스)가 위에 나와야함\n",
    "        print('다시 시도하세요')\n",
    "# ZeroDivisionError: division by zero\n",
    "# ValueError : invalid literal for int() with base 10: 'a'"
   ]
  },
  {
   "cell_type": "markdown",
   "id": "5b53ce31",
   "metadata": {},
   "source": [
    "## 2.3 예외메세지(예외인수)"
   ]
  },
  {
   "cell_type": "code",
   "execution_count": 3,
   "id": "2503a13e",
   "metadata": {},
   "outputs": [
    {
     "name": "stdout",
     "output_type": "stream",
     "text": [
      "정수를 입력하세요 :0\n",
      "0\n",
      "<class 'int'>\n",
      "예외메세지 : ('division by zero',)\n",
      "예외메세지 : division by zero\n",
      "정수를 입력하세요 :10\n",
      "10\n"
     ]
    }
   ],
   "source": [
    "while True:\n",
    "    try:\n",
    "        x = int(input('정수를 입력하세요 :'))\n",
    "        result = 100/x\n",
    "        result = f\"{100/x:.0f}\" if round(result)==result else f\"{100/x:.2f}\"\n",
    "        print(result)\n",
    "        break\n",
    "    except (ZeroDivisionError, ValueError) as e:\n",
    "        print(0) # e.__str__() : 예외메세지\n",
    "        print(type(0))\n",
    "        print('예외메세지 :', e.args)\n",
    "        print('예외메세지 :', e.args[0])\n",
    "    except Exception:\n",
    "    # except절이 많은 경우 하위 클래스(자식클래스)가 위에 나와야함\n",
    "        print('다시 시도하세요')\n",
    "# ZeroDivisionError: division by zero\n",
    "# ValueError : invalid literal for int() with base 10: 'a'"
   ]
  },
  {
   "cell_type": "markdown",
   "id": "5d02bd57",
   "metadata": {},
   "source": [
    "```\n",
    "try:\n",
    "    예외가 발생할 수도 있는 구문\n",
    "    try절을 수행하다 예외가 발생 안되면 else절을 한번 수행\n",
    "except [예외타입 as e]:\n",
    "    예외가 발생되면 수행할 구문\n",
    "else:\n",
    "    try절을 수행하다 예외가 발생 안되면 else절을 한번 수행\n",
    "finally:\n",
    "    예외가 발생 안하면 try-else-family절 수행\n",
    "    예외가 발생하면 try 수행 중 except - finally절 수행\n",
    "\n",
    "```"
   ]
  },
  {
   "cell_type": "code",
   "execution_count": 5,
   "id": "0a46d15a",
   "metadata": {},
   "outputs": [
    {
     "name": "stdout",
     "output_type": "stream",
     "text": [
      "Hello\n",
      "World\n",
      "\n"
     ]
    }
   ],
   "source": [
    "try:\n",
    "    f = open(r'data\\ch08.txt', 'r')\n",
    "except FileNotFoundError as e:\n",
    "    print(e)\n",
    "    print('해당 파일이 없습니다')\n",
    "else:\n",
    "    data = f.read()\n",
    "    print(data)\n",
    "finally:\n",
    "    f.close()"
   ]
  },
  {
   "cell_type": "code",
   "execution_count": 7,
   "id": "66ba7fdb",
   "metadata": {},
   "outputs": [
    {
     "name": "stdout",
     "output_type": "stream",
     "text": [
      "Hello\n",
      "World\n",
      "\n",
      "반드시 실행\n"
     ]
    }
   ],
   "source": [
    "try:\n",
    "    f = open(r'data\\ch08.txt', 'r')\n",
    "    data = f.read()\n",
    "    print(data)\n",
    "except FileNotFoundError as e:\n",
    "    print(e)\n",
    "finally:\n",
    "    print('반드시 실행')\n",
    "    f.close()"
   ]
  },
  {
   "cell_type": "markdown",
   "id": "fe6905fe",
   "metadata": {},
   "source": [
    "# 3절. raise\n",
    "- 강제 예외 발생"
   ]
  },
  {
   "cell_type": "code",
   "execution_count": 8,
   "id": "70297646",
   "metadata": {
    "scrolled": true
   },
   "outputs": [
    {
     "ename": "NameError",
     "evalue": "예외 발생함",
     "output_type": "error",
     "traceback": [
      "\u001b[1;31m------------------------\u001b[0m",
      "\u001b[1;31mNameError\u001b[0mTraceback (most recent call last)",
      "Cell \u001b[1;32mIn[8], line 1\u001b[0m\n\u001b[1;32m----> 1\u001b[0m \u001b[38;5;28;01mraise\u001b[39;00m \u001b[38;5;167;01mNameError\u001b[39;00m(\u001b[38;5;124m\"\u001b[39m\u001b[38;5;124m예외 발생함\u001b[39m\u001b[38;5;124m\"\u001b[39m)\n",
      "\u001b[1;31mNameError\u001b[0m: 예외 발생함"
     ]
    }
   ],
   "source": [
    "raise NameError(\"예외 발생함\")"
   ]
  },
  {
   "cell_type": "code",
   "execution_count": 18,
   "id": "271355a4",
   "metadata": {},
   "outputs": [],
   "source": [
    "# 사용자 정의 예외 : Exception 클래스 또는 그 하위 클래스를 상속받아 구현\n",
    "class LengthZeroError(Exception):\n",
    "    pass\n",
    "#    def __init__(self, message):\n",
    "#        self.message = message"
   ]
  },
  {
   "cell_type": "code",
   "execution_count": 19,
   "id": "38efcedf",
   "metadata": {},
   "outputs": [],
   "source": [
    "def insert(*data): # 튜플 매개변수\n",
    "    if len(data)==0:\n",
    "        raise LengthZeroError(\"매개변수가 0인 예외입니다\")\n",
    "    for item in data:\n",
    "        print(item, end=' ')\n",
    "    print('등을 입력하셨습니다')"
   ]
  },
  {
   "cell_type": "code",
   "execution_count": 21,
   "id": "b14997fe",
   "metadata": {},
   "outputs": [
    {
     "name": "stdout",
     "output_type": "stream",
     "text": [
      "매개변수가 0인 예외입니다\n",
      "무조건 실행하는 부분 DONE\n"
     ]
    }
   ],
   "source": [
    "data = []\n",
    "try:\n",
    "    insert(*data)\n",
    "except LengthZeroError as e:\n",
    "    print(e)\n",
    "finally:\n",
    "    print('무조건 실행하는 부분 DONE')"
   ]
  },
  {
   "cell_type": "markdown",
   "id": "d9122cd7",
   "metadata": {},
   "source": [
    "# 4절. 추상클래스\n",
    "- 추상클래스 : 객체를 생성할 수 없는 클래스. 상송받을 클래스의 포맷 제공\n",
    "- 추상메소드 : 호출할 수 없는 메소드"
   ]
  },
  {
   "cell_type": "code",
   "execution_count": 23,
   "id": "fbbc7273",
   "metadata": {},
   "outputs": [],
   "source": [
    "# Shape 클래스 : 객체를 만드는게 목적이 아닌, 자식클래스(서브클래스)를 잘 만들게 목적\n",
    "# Shape 클리스를 상송받은 클래스들의 표준 제시 목적\n",
    "class Shape:\n",
    "    def __init__(self):\n",
    "        raise NotImplementedError('추상 클래스 역할')\n",
    "    def calc_area(self):\n",
    "        raise NotImplementedError('추상 메소드 역할')"
   ]
  },
  {
   "cell_type": "code",
   "execution_count": 25,
   "id": "389b4c56",
   "metadata": {},
   "outputs": [
    {
     "data": {
      "text/plain": [
       "28.259999999999998"
      ]
     },
     "execution_count": 25,
     "metadata": {},
     "output_type": "execute_result"
    }
   ],
   "source": [
    "# s = Shape()\n",
    "class Circle(Shape):\n",
    "    def __init__(self, r=3):\n",
    "        self.r = r\n",
    "    def calc_area(self):\n",
    "        return 3.14*self.r*self.r\n",
    "c = Circle(3)\n",
    "c.calc_area()"
   ]
  },
  {
   "cell_type": "markdown",
   "id": "88114d51",
   "metadata": {},
   "source": [
    "# 5절. 파일 정리 작업(with 절 이용)"
   ]
  },
  {
   "cell_type": "code",
   "execution_count": 26,
   "id": "a9ad2620",
   "metadata": {},
   "outputs": [
    {
     "name": "stdout",
     "output_type": "stream",
     "text": [
      "Hello\n",
      "World\n",
      "\n"
     ]
    }
   ],
   "source": [
    "try:\n",
    "    f = open('data/ch08.txt', 'r')\n",
    "    print(f.read())\n",
    "except Exception as e:\n",
    "    print(e)\n",
    "finally:\n",
    "    f.close()"
   ]
  },
  {
   "cell_type": "code",
   "execution_count": 27,
   "id": "10ef1002",
   "metadata": {},
   "outputs": [
    {
     "name": "stdout",
     "output_type": "stream",
     "text": [
      "Hello\n",
      "World\n",
      "\n"
     ]
    }
   ],
   "source": [
    "f = open('data/ch08.txt', 'r')\n",
    "print(f.read())\n",
    "f.close()"
   ]
  },
  {
   "cell_type": "code",
   "execution_count": 28,
   "id": "0900e957",
   "metadata": {},
   "outputs": [
    {
     "name": "stdout",
     "output_type": "stream",
     "text": [
      "Hello\n",
      "World\n",
      "\n"
     ]
    }
   ],
   "source": [
    "with open('data/ch08.txt', 'r') as f:\n",
    "    print(f.read())\n",
    "# with 절 이후에는 자동 close()실행"
   ]
  },
  {
   "cell_type": "markdown",
   "id": "e2d0cf3e",
   "metadata": {},
   "source": [
    "# 6절. 연습문제"
   ]
  },
  {
   "cell_type": "code",
   "execution_count": 3,
   "id": "de803e6d",
   "metadata": {},
   "outputs": [
    {
     "name": "stdout",
     "output_type": "stream",
     "text": [
      "첫번째 숫자를 입력하세요d\n",
      "유효한 숫자가 아닙니다\n",
      "첫번째 숫자를 입력하세요10\n",
      "두번째 숫자를 입력하세요5\n",
      "입력한 수는 10.0와 5.0\n",
      "10.0을 5.0로 나누면 2.0입니다\n"
     ]
    }
   ],
   "source": [
    "# 1.\n",
    "# ValueError, ZeroDivisionError\n",
    "while True:\n",
    "    try:\n",
    "        num1 = float(input('첫번째 숫자를 입력하세요'))\n",
    "        num2 = float(input('두번째 숫자를 입력하세요'))\n",
    "        print(\"입력한 수는 {}와 {}\".format(num1, num2))\n",
    "        print(\"{}을 {}로 나누면 {}입니다\".format(num1, num2, num1/num2))\n",
    "        break\n",
    "    except:\n",
    "        print('유효한 숫자가 아닙니다')"
   ]
  },
  {
   "cell_type": "code",
   "execution_count": null,
   "id": "6598dae2",
   "metadata": {},
   "outputs": [],
   "source": [
    "# 2."
   ]
  },
  {
   "cell_type": "code",
   "execution_count": null,
   "id": "ada12c40",
   "metadata": {},
   "outputs": [],
   "source": [
    "# 1. 3\n",
    "# 2. 2\n",
    "# 3. 4\n",
    "# 4. 3"
   ]
  },
  {
   "cell_type": "code",
   "execution_count": null,
   "id": "cc734723",
   "metadata": {},
   "outputs": [],
   "source": []
  },
  {
   "cell_type": "code",
   "execution_count": null,
   "id": "58f610b8",
   "metadata": {},
   "outputs": [],
   "source": []
  },
  {
   "cell_type": "code",
   "execution_count": null,
   "id": "f3a5a354",
   "metadata": {},
   "outputs": [],
   "source": []
  },
  {
   "cell_type": "code",
   "execution_count": null,
   "id": "07e4bcdc",
   "metadata": {},
   "outputs": [],
   "source": []
  },
  {
   "cell_type": "code",
   "execution_count": null,
   "id": "6b09cbd2",
   "metadata": {},
   "outputs": [],
   "source": []
  }
 ],
 "metadata": {
  "kernelspec": {
   "display_name": "Python 3 (ipykernel)",
   "language": "python",
   "name": "python3"
  },
  "language_info": {
   "codemirror_mode": {
    "name": "ipython",
    "version": 3
   },
   "file_extension": ".py",
   "mimetype": "text/x-python",
   "name": "python",
   "nbconvert_exporter": "python",
   "pygments_lexer": "ipython3",
   "version": "3.10.9"
  },
  "toc": {
   "base_numbering": 1,
   "nav_menu": {},
   "number_sections": false,
   "sideBar": true,
   "skip_h1_title": false,
   "title_cell": "Table of Contents",
   "title_sidebar": "Contents",
   "toc_cell": false,
   "toc_position": {
    "height": "calc(100% - 180px)",
    "left": "10px",
    "top": "150px",
    "width": "215px"
   },
   "toc_section_display": true,
   "toc_window_display": true
  }
 },
 "nbformat": 4,
 "nbformat_minor": 5
}

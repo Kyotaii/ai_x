{
 "cells": [
  {
   "cell_type": "code",
   "execution_count": 4,
   "id": "38ed81b2",
   "metadata": {},
   "outputs": [
    {
     "data": {
      "text/html": [
       "\n",
       "<style>\n",
       "div.container{width:86% !important;}\n",
       "div.cell.code_cell.rendered{width:100%;}\n",
       "div.CodeMirror {font-family:Consolas; font-size:15pt;}\n",
       "div.output {font-size:15pt; font-weight:bold;}\n",
       "div.input {font-family:Consolas; font-size:15pt;}\n",
       "div.prompt {min-width:70px;}\n",
       "div#toc-wrapper{padding-top:120px;}\n",
       "div.text_cell_render ul li{font-size:12pt;padding:5px;}\n",
       "table.dataframe{font-size:15px;}\n",
       "</style>\n"
      ],
      "text/plain": [
       "<IPython.core.display.HTML object>"
      ]
     },
     "metadata": {},
     "output_type": "display_data"
    }
   ],
   "source": [
    "from IPython.display import display, HTML\n",
    "display(HTML(\"\"\"\n",
    "<style>\n",
    "div.container{width:86% !important;}\n",
    "div.cell.code_cell.rendered{width:100%;}\n",
    "div.CodeMirror {font-family:Consolas; font-size:15pt;}\n",
    "div.output {font-size:15pt; font-weight:bold;}\n",
    "div.input {font-family:Consolas; font-size:15pt;}\n",
    "div.prompt {min-width:70px;}\n",
    "div#toc-wrapper{padding-top:120px;}\n",
    "div.text_cell_render ul li{font-size:12pt;padding:5px;}\n",
    "table.dataframe{font-size:15px;}\n",
    "</style>\n",
    "\"\"\"))"
   ]
  },
  {
   "cell_type": "markdown",
   "id": "5f635921",
   "metadata": {},
   "source": [
    "<front size= \"5\" color=\"red\">ch02 자료형과 연산자</front>\n",
    "# 1절 변수\n",
    "- 파이썬은 변수선언을 위한 과정이 없음. 할당과 동시에 타업이지정되고 값이 할당됨.\n",
    "\n",
    "## 1.1 변수 할당\n",
    "- 할당연산자(=)을 이용해서 값을 할당하면 타입이 셋팅\n",
    "- 파이썬에서의 모든 변수는 객체로 저장"
   ]
  },
  {
   "cell_type": "code",
   "execution_count": 14,
   "id": "36a93fa0",
   "metadata": {},
   "outputs": [
    {
     "name": "stdout",
     "output_type": "stream",
     "text": [
      "계산된 넓이는 78.5\n"
     ]
    }
   ],
   "source": [
    "r = 5\n",
    "area = 3.14 * r * r\n",
    "print(\"계산된 넓이는\", str (area))"
   ]
  },
  {
   "cell_type": "code",
   "execution_count": 20,
   "id": "1d438f43",
   "metadata": {},
   "outputs": [
    {
     "name": "stdout",
     "output_type": "stream",
     "text": [
      "area =  78.53981633974483\n"
     ]
    }
   ],
   "source": [
    "import numpy as np\n",
    "area = np.pi * r * r\n",
    "print(\"area = \" , area)"
   ]
  },
  {
   "cell_type": "code",
   "execution_count": 24,
   "id": "53ec499d",
   "metadata": {},
   "outputs": [
    {
     "data": {
      "text/plain": [
       "False"
      ]
     },
     "execution_count": 24,
     "metadata": {},
     "output_type": "execute_result"
    }
   ],
   "source": [
    "area.is_integer() # are가 integer인지 여부를 반환"
   ]
  },
  {
   "cell_type": "code",
   "execution_count": 26,
   "id": "eeaabfb3",
   "metadata": {},
   "outputs": [
    {
     "name": "stdout",
     "output_type": "stream",
     "text": [
      "area의 주소 : 1939173350256\n",
      "area의 타입 : <class 'float'>\n"
     ]
    }
   ],
   "source": [
    "print('area의 주소 :', id(area)) #id(area) : area변수의 주소값\n",
    "print('area의 타입 :', type(area))"
   ]
  },
  {
   "cell_type": "code",
   "execution_count": 29,
   "id": "2ed97205",
   "metadata": {},
   "outputs": [
    {
     "name": "stdout",
     "output_type": "stream",
     "text": [
      "area의 주소 : 1939088649968\n",
      "area의 타입 : <class 'float'>\n"
     ]
    }
   ],
   "source": [
    "area = 5.5\n",
    "print('area의 주소 :', id(area)) #id(area) : area변수의 주소값\n",
    "print('area의 타입 :', type(area))"
   ]
  },
  {
   "cell_type": "code",
   "execution_count": 32,
   "id": "881a9797",
   "metadata": {},
   "outputs": [
    {
     "name": "stdout",
     "output_type": "stream",
     "text": [
      "area의 주소 : 1939087622672\n",
      "area의 타입 : <class 'int'>\n"
     ]
    }
   ],
   "source": [
    "area = 10\n",
    "print('area의 주소 :', id(area)) #id(area) : area변수의 주소값\n",
    "print('area의 타입 :', type(area))"
   ]
  },
  {
   "cell_type": "code",
   "execution_count": 34,
   "id": "eee69c3f",
   "metadata": {},
   "outputs": [
    {
     "name": "stdout",
     "output_type": "stream",
     "text": [
      "area의 주소 : 1937058690416\n",
      "area의 타입 : <class 'str'>\n"
     ]
    }
   ],
   "source": [
    "area = \"파이썬\"\n",
    "print('area의 주소 :', id(area)) #id(area) : area변수의 주소값\n",
    "print('area의 타입 :', type(area))"
   ]
  },
  {
   "cell_type": "markdown",
   "id": "a1d2c30c",
   "metadata": {},
   "source": [
    "## 1.2 변수이름 규칙\n",
    "- 문자로 시작 (숫자 시작 불가)\n",
    "- 문자, 수자, _로 변수명 작성\n",
    "- 함수명은 변수이름으로 가능하나 피한다. 써야한다면 int_식으로 _를 이용\n",
    "- 파이썬 예약어(for, ...)는 변수이름 사용 불가\n",
    "- 한글 변수는 꼭 필요시에만 이용"
   ]
  },
  {
   "cell_type": "code",
   "execution_count": 36,
   "id": "9a084818",
   "metadata": {},
   "outputs": [
    {
     "name": "stdout",
     "output_type": "stream",
     "text": [
      "홍길동\n"
     ]
    }
   ],
   "source": [
    "이름 = \"홍길동\"\n",
    "print(이름)"
   ]
  },
  {
   "cell_type": "code",
   "execution_count": 37,
   "id": "393c03aa",
   "metadata": {},
   "outputs": [
    {
     "data": {
      "text/plain": [
       "'홍길동'"
      ]
     },
     "execution_count": 37,
     "metadata": {},
     "output_type": "execute_result"
    }
   ],
   "source": [
    "이름"
   ]
  },
  {
   "cell_type": "code",
   "execution_count": 38,
   "id": "30a9b35f",
   "metadata": {},
   "outputs": [
    {
     "ename": "SyntaxError",
     "evalue": "invalid syntax (3039934606.py, line 1)",
     "output_type": "error",
     "traceback": [
      "\u001b[1;36m  Cell \u001b[1;32mIn[38], line 1\u001b[1;36m\u001b[0m\n\u001b[1;33m    for = 5\u001b[0m\n\u001b[1;37m        ^\u001b[0m\n\u001b[1;31mSyntaxError\u001b[0m\u001b[1;31m:\u001b[0m invalid syntax\n"
     ]
    }
   ],
   "source": [
    "for = 5"
   ]
  },
  {
   "cell_type": "code",
   "execution_count": 42,
   "id": "983aa3ee",
   "metadata": {},
   "outputs": [
    {
     "ename": "NameError",
     "evalue": "name 'member' is not defined",
     "output_type": "error",
     "traceback": [
      "\u001b[1;31m-----------------------------------------------------------------------\u001b[0m",
      "\u001b[1;31mNameError\u001b[0m                             Traceback (most recent call last)",
      "Cell \u001b[1;32mIn[42], line 3\u001b[0m\n\u001b[0;32m      1\u001b[0m \u001b[38;5;66;03m# member.name = \"홍길동\"\u001b[39;00m\n\u001b[0;32m      2\u001b[0m member_name \u001b[38;5;241m=\u001b[39m \u001b[38;5;124m\"\u001b[39m\u001b[38;5;124m홍길동\u001b[39m\u001b[38;5;124m\"\u001b[39m\n\u001b[1;32m----> 3\u001b[0m \u001b[43mmember\u001b[49m\u001b[38;5;241m.\u001b[39mname \u001b[38;5;241m=\u001b[39m \u001b[38;5;124m\"\u001b[39m\u001b[38;5;124m홍길동\u001b[39m\u001b[38;5;124m\"\u001b[39m\n",
      "\u001b[1;31mNameError\u001b[0m: name 'member' is not defined"
     ]
    }
   ],
   "source": [
    "# member.name = \"홍길동\"\n",
    "member_name = \"홍길동\"\n",
    "member.name = \"홍길동\""
   ]
  },
  {
   "cell_type": "code",
   "execution_count": 43,
   "id": "5276dad6",
   "metadata": {},
   "outputs": [
    {
     "name": "stdout",
     "output_type": "stream",
     "text": [
      "10\n"
     ]
    }
   ],
   "source": [
    "Print = 10 # 대문자로 시작한 변수, 함수명의 변수는 강력비추\n",
    "print(Print)"
   ]
  },
  {
   "cell_type": "code",
   "execution_count": 45,
   "id": "f02bc028",
   "metadata": {},
   "outputs": [
    {
     "data": {
      "text/plain": [
       "complex"
      ]
     },
     "execution_count": 45,
     "metadata": {},
     "output_type": "execute_result"
    }
   ],
   "source": [
    "# 파이썬에서의 숫자 :정수, 실수(소수점), 복소수\n",
    "i = 3 + 3j # 복소수\n",
    "type(i)"
   ]
  },
  {
   "cell_type": "markdown",
   "id": "abfc69f6",
   "metadata": {},
   "source": [
    "## 1.3 도움말"
   ]
  },
  {
   "cell_type": "code",
   "execution_count": 48,
   "id": "98bb8dad",
   "metadata": {},
   "outputs": [
    {
     "name": "stdout",
     "output_type": "stream",
     "text": [
      "\n",
      "Welcome to Python 3.10's help utility!\n",
      "\n",
      "If this is your first time using Python, you should definitely check out\n",
      "the tutorial on the internet at https://docs.python.org/3.10/tutorial/.\n",
      "\n",
      "Enter the name of any module, keyword, or topic to get help on writing\n",
      "Python programs and using Python modules.  To quit this help utility and\n",
      "return to the interpreter, just type \"quit\".\n",
      "\n",
      "To get a list of available modules, keywords, symbols, or topics, type\n",
      "\"modules\", \"keywords\", \"symbols\", or \"topics\".  Each module also comes\n",
      "with a one-line summary of what it does; to list the modules whose name\n",
      "or summary contain a given string such as \"spam\", type \"modules spam\".\n",
      "\n",
      "help> \n",
      "\n",
      "You are now leaving help and returning to the Python interpreter.\n",
      "If you want to ask for help on a particular object directly from the\n",
      "interpreter, you can type \"help(object)\".  Executing \"help('string')\"\n",
      "has the same effect as typing a particular string at the help> prompt.\n"
     ]
    }
   ],
   "source": [
    "help() # help를 빠져나오려면 q입력 / ESC + o : 결과접기/펴기"
   ]
  },
  {
   "cell_type": "code",
   "execution_count": 49,
   "id": "08eedfd3",
   "metadata": {},
   "outputs": [
    {
     "name": "stdout",
     "output_type": "stream",
     "text": [
      "\n"
     ]
    }
   ],
   "source": [
    "# 도움말 기능 : shift+tab 키 (탭/탭탭)\n",
    "print()"
   ]
  },
  {
   "cell_type": "code",
   "execution_count": 60,
   "id": "9f92eec6",
   "metadata": {},
   "outputs": [],
   "source": [
    "def add(x, y):\n",
    "    '''\n",
    "    매개변수 2개를 받아 두가지 숫자로 만들어요\n",
    "    x = 10의 자리수가 됨\n",
    "    y = 1의 자리수가 됨\n",
    "    사용법 : add(2, 3) => 23\n",
    "    '''\n",
    "    return x*10 + y"
   ]
  },
  {
   "cell_type": "code",
   "execution_count": 69,
   "id": "970505fd",
   "metadata": {},
   "outputs": [
    {
     "data": {
      "text/plain": [
       "21"
      ]
     },
     "execution_count": 69,
     "metadata": {},
     "output_type": "execute_result"
    }
   ],
   "source": [
    "add(2, 1)"
   ]
  },
  {
   "cell_type": "code",
   "execution_count": 70,
   "id": "4227d3cc",
   "metadata": {},
   "outputs": [
    {
     "data": {
      "text/plain": [
       "23"
      ]
     },
     "execution_count": 70,
     "metadata": {},
     "output_type": "execute_result"
    }
   ],
   "source": [
    "a = add\n",
    "a(2, 3)"
   ]
  },
  {
   "cell_type": "markdown",
   "id": "669a2157",
   "metadata": {},
   "source": [
    "## 1.4 다중 변수 할당"
   ]
  },
  {
   "cell_type": "code",
   "execution_count": 115,
   "id": "42e6cbb4",
   "metadata": {},
   "outputs": [],
   "source": [
    "a = 10\n",
    "b = 20"
   ]
  },
  {
   "cell_type": "code",
   "execution_count": 117,
   "id": "dcfcb0e6",
   "metadata": {},
   "outputs": [
    {
     "name": "stdout",
     "output_type": "stream",
     "text": [
      "10 20\n"
     ]
    }
   ],
   "source": [
    "a, b = 10, 20\n",
    "print(a, b)"
   ]
  },
  {
   "cell_type": "code",
   "execution_count": 118,
   "id": "f18f90ae",
   "metadata": {},
   "outputs": [
    {
     "name": "stdout",
     "output_type": "stream",
     "text": [
      "20 30\n"
     ]
    }
   ],
   "source": [
    "# 다중 변수 할당시 순차적 할당이 아닌, 일괄 동시 할당\n",
    "a, b = b, a+b\n",
    "print(a, b)"
   ]
  },
  {
   "cell_type": "markdown",
   "id": "8901eb98",
   "metadata": {},
   "source": [
    "# 2절. 화면 입출력(in/out)"
   ]
  },
  {
   "cell_type": "code",
   "execution_count": 125,
   "id": "cbb1916d",
   "metadata": {},
   "outputs": [
    {
     "name": "stdout",
     "output_type": "stream",
     "text": [
      "첫번째 숫자는?8\n",
      "\n"
     ]
    }
   ],
   "source": [
    "# input() : 사용자로부터 값을 입력받기 위한 함수. 문자열로 입력\n",
    "first = input(\"첫번째 숫자는?\")\n",
    "print()"
   ]
  },
  {
   "cell_type": "code",
   "execution_count": 126,
   "id": "70d65f04",
   "metadata": {},
   "outputs": [
    {
     "name": "stdout",
     "output_type": "stream",
     "text": [
      "두번째 숫자는?2\n"
     ]
    }
   ],
   "source": [
    "second = input('두번째 숫자는?')"
   ]
  },
  {
   "cell_type": "code",
   "execution_count": 127,
   "id": "9cc40270",
   "metadata": {},
   "outputs": [
    {
     "name": "stdout",
     "output_type": "stream",
     "text": [
      "합: 10\n"
     ]
    }
   ],
   "source": [
    "sum = int(first) + int(second)\n",
    "print('합:', sum)"
   ]
  },
  {
   "cell_type": "code",
   "execution_count": 128,
   "id": "237f6dec",
   "metadata": {},
   "outputs": [
    {
     "name": "stdout",
     "output_type": "stream",
     "text": [
      "첫번째 수는?10\n",
      "두번째 수는?20\n",
      "합 30\n"
     ]
    }
   ],
   "source": [
    "first = int(input('첫번째 수는?'))\n",
    "second = int(input('두번째 수는?'))\n",
    "sum = first + second\n",
    "print('합', sum)"
   ]
  },
  {
   "cell_type": "code",
   "execution_count": 131,
   "id": "a3c751c4",
   "metadata": {},
   "outputs": [
    {
     "name": "stdout",
     "output_type": "stream",
     "text": [
      "합=30/합~30 /합은30\n"
     ]
    }
   ],
   "source": [
    "print('합', sum, sep='=', end='/')\n",
    "print('합', sum, sep='~', end=' /')\n",
    "print('합', sum, sep='은')"
   ]
  },
  {
   "cell_type": "code",
   "execution_count": 134,
   "id": "26781d75",
   "metadata": {},
   "outputs": [
    {
     "name": "stdout",
     "output_type": "stream",
     "text": [
      "hello, world\n"
     ]
    }
   ],
   "source": [
    "import sys\n",
    "print('hello', 'world', sep=\", \", file=sys.stdout)"
   ]
  },
  {
   "cell_type": "markdown",
   "id": "bc1b51d5",
   "metadata": {},
   "source": [
    "# 3절. 기본 자료형\n",
    "- 자료형에 따라 값의 크기와 저장방식이 달라짐\n",
    "    - 숫자 : int, float\n",
    "    - 문자 : str\n",
    "    - 논리 : bool(True/False)\n",
    "    \n",
    "# 3.1 숫자형"
   ]
  },
  {
   "cell_type": "code",
   "execution_count": 138,
   "id": "4e4bcd7e",
   "metadata": {},
   "outputs": [
    {
     "data": {
      "text/plain": [
       "9223372036854775807"
      ]
     },
     "execution_count": 138,
     "metadata": {},
     "output_type": "execute_result"
    }
   ],
   "source": [
    "import sys\n",
    "sys.maxsize # 정수의 최대값 2의 63승-1 (2**63 -1)"
   ]
  },
  {
   "cell_type": "code",
   "execution_count": 140,
   "id": "68b6854a",
   "metadata": {},
   "outputs": [
    {
     "name": "stdout",
     "output_type": "stream",
     "text": [
      "9223372036854776807\n",
      "<class 'int'>\n"
     ]
    }
   ],
   "source": [
    "i = sys.maxsize + 1000\n",
    "print(i)\n",
    "print(type(i))"
   ]
  },
  {
   "cell_type": "code",
   "execution_count": 148,
   "id": "28708573",
   "metadata": {},
   "outputs": [
    {
     "data": {
      "text/plain": [
       "2.0"
      ]
     },
     "execution_count": 148,
     "metadata": {},
     "output_type": "execute_result"
    }
   ],
   "source": [
    "f = 4/2 # 정수/정수는 무조건 실수\n",
    "f"
   ]
  },
  {
   "cell_type": "code",
   "execution_count": 154,
   "id": "d60cd5ea",
   "metadata": {},
   "outputs": [
    {
     "name": "stdout",
     "output_type": "stream",
     "text": [
      "2\n",
      "2\n"
     ]
    }
   ],
   "source": [
    "# 자바처럼 정수/정수의 결과를 정수로\n",
    "f = 4//2 # 몫연산자\n",
    "print(f)\n",
    "f = int(4/2)\n",
    "print(f)"
   ]
  },
  {
   "cell_type": "code",
   "execution_count": 155,
   "id": "d914eb6d",
   "metadata": {},
   "outputs": [
    {
     "name": "stdout",
     "output_type": "stream",
     "text": [
      "(-1+0j)\n"
     ]
    }
   ],
   "source": [
    "c = 1j # 수학시간의 0+1i\n",
    "print(c**2) # ** 승연산자"
   ]
  },
  {
   "cell_type": "code",
   "execution_count": 157,
   "id": "f9a9244c",
   "metadata": {},
   "outputs": [
    {
     "name": "stdout",
     "output_type": "stream",
     "text": [
      "지수형 표현할당시 실수형으로 저장 : 1120000000000.0\n",
      "지수형 표현할당시 실수형으로 저장 : 1.12e-12\n"
     ]
    }
   ],
   "source": [
    "f = 1.12e12 # 1.12의 10의 12승 1120000000000\n",
    "print('지수형 표현할당시 실수형으로 저장 :', f)\n",
    "f = 1.12e-12 # 0.00000000000112\n",
    "print('지수형 표현할당시 실수형으로 저장 :', f)"
   ]
  },
  {
   "cell_type": "markdown",
   "id": "1a3bab95",
   "metadata": {},
   "source": [
    "# 3.2 문자형\n",
    "쌍따옴표(\"-\")나 홑따옴표('-')이용"
   ]
  },
  {
   "cell_type": "code",
   "execution_count": 171,
   "id": "d5666566",
   "metadata": {},
   "outputs": [
    {
     "name": "stdout",
     "output_type": "stream",
     "text": [
      "홍길동\"짱\" 서울시 관악구 '신림동'\n"
     ]
    }
   ],
   "source": [
    "name = \"홍길동\\\"짱\\\"\" # 홍길동 \"짱\"\n",
    "name = '홍길동\"짱\"'\n",
    "address = '서울시 관악구 \\'신림동\\'' # 서울시 관악구 '신림동'\n",
    "address = \"서울시 관악구 '신림동'\"\n",
    "print(name, address)"
   ]
  },
  {
   "cell_type": "code",
   "execution_count": 173,
   "id": "815933d2",
   "metadata": {},
   "outputs": [
    {
     "name": "stdout",
     "output_type": "stream",
     "text": [
      "여러줄 짜리 내용\n",
      "줄바꿈문자를 쓰지 않고 따옴표 3개로 처리\n",
      "이처럼 쓰는 경우가 많아요ㅋㅋ xx 010-9999-999 020202-20254114\n"
     ]
    }
   ],
   "source": [
    "# 문자형 변수 여러줄\n",
    "text = '''여러줄 짜리 내용\n",
    "줄바꿈문자를 쓰지 않고 따옴표 3개로 처리\n",
    "이처럼 쓰는 경우가 많아요ㅋㅋ xx 010-9999-999 020202-20254114'''\n",
    "print(text)"
   ]
  },
  {
   "cell_type": "markdown",
   "id": "f8b8872e",
   "metadata": {},
   "source": [
    "### ※ 문자열 연산"
   ]
  },
  {
   "cell_type": "code",
   "execution_count": 175,
   "id": "fd6f22eb",
   "metadata": {},
   "outputs": [
    {
     "name": "stdout",
     "output_type": "stream",
     "text": [
      "홍길동동해 번쩍 서해 번쩍\n"
     ]
    }
   ],
   "source": [
    "'''\n",
    "    여러줄 주석 용도\n",
    "    2025.04.08 문자열 연산 소스 by 홍길동\n",
    "'''\n",
    "name1 = \"홍길동\"\n",
    "name2 = \"동해 번쩍 서해 번쩍\"\n",
    "print(name1 + name2)"
   ]
  },
  {
   "cell_type": "code",
   "execution_count": 176,
   "id": "24a6bfcd",
   "metadata": {},
   "outputs": [
    {
     "name": "stdout",
     "output_type": "stream",
     "text": [
      "홍길동홍길동홍길동\n"
     ]
    }
   ],
   "source": [
    "print(name1 * 3) # 문자열을 곱하면 반복"
   ]
  },
  {
   "cell_type": "markdown",
   "id": "1ec314aa",
   "metadata": {},
   "source": [
    "### ※ raw 데이터\n",
    "- 용도: 정규표현식 이용, 디렉토리 경로 표현시 이용"
   ]
  },
  {
   "cell_type": "code",
   "execution_count": 180,
   "id": "2f961cbc",
   "metadata": {},
   "outputs": [
    {
     "name": "stdout",
     "output_type": "stream",
     "text": [
      "Hello\\nworld\n",
      "Hello\\nworld\n"
     ]
    }
   ],
   "source": [
    "print(r'Hello\\nworld')\n",
    "print('Hello\\\\nworld')"
   ]
  },
  {
   "cell_type": "markdown",
   "id": "7dc8bad3",
   "metadata": {},
   "source": [
    "정규 표현식\n",
    "\n",
    "    1. 참조: 위키백과\n",
    "    2. 간략한 문법 : \n",
    "    d (숫자열 매치, [0-9]와 동일\n",
    "    \\D (숫자가 아닌것)\n",
    "    \\w (영문자나 숫자, [a-zA-Z0-9]\n",
    "    \\W (영문자나 숫자가 아닌 문자)\n",
    "    . (문자)\n",
    "    \\. (.의미)\n",
    "    \\. (-의미)\n",
    "    (2, 3) (2-4번 반복)\n",
    "    (4)    (4번 반복)\n",
    "    (2,)   (2번 이상 반복)\n",
    "    -      (1번 이상 반복)\n",
    "    *      (0번 이상 반복)\n",
    "    ?      (0번이나 1번 반복)\n",
    "    \n",
    "    3. 정규 표현식 연습창 (https://regexr.com/)\n",
    "    ex1. 전화번호 : 010-9999-9999 02-712-8888 \n",
    "                    01099997777 0277778888\n",
    "                    02)714-5656 010 1234 1234 010.1234.1234\n",
    "                   \n",
    "    \"[0-9]{2,3}[\\-) .]?[0-9]{3,4}[\\- .]?[0-9]{4}\"\n",
    "\n",
    "    ex2. 이메일 : abc12@naver.com / abc123@0to7.co.kr\n",
    "                  abc@한국.com\n",
    "     \"\\w{3,}@[a-zA-Z0-9가-힣]+(\\.[a-zA-Z]+){1,2}\"\n",
    "\n",
    "tel_pattern = r\"[0-9]{2,3}[\\-) .]?[0-9]{3,4}[\\- .]?[0-9]{4}\"\n",
    "email_pattern = \\w{3,}@[a-zA-z0-9가-힣]+.[a-zA-Z]+\\.[a-zA-Z]+(\\.[a-zA-Z]+)?\n",
    "                r\"\\w{3,}@[a-zA-Z0-9가-힣]+(\\.[a-zA-Z]+){1,2}\"\n",
    "                \n",
    "     4. 소스 구현"
   ]
  },
  {
   "cell_type": "code",
   "execution_count": 20,
   "id": "d2f968ec",
   "metadata": {},
   "outputs": [
    {
     "name": "stdout",
     "output_type": "stream",
     "text": [
      "홍길동인데 전번이 041-888-8888, 010 9999 9999 동해번쩍 서해번쩍 ㅋㅋ ㅠㅠ 오늘 날씨는 엄청 좋아요\n"
     ]
    }
   ],
   "source": [
    "import re\n",
    "data = \"홍길동인데 전번이 041-888-8888, \\\n",
    "010 9999 9999 동해번쩍 서해번쩍 ㅋㅋ ㅠㅠ \\\n",
    "오늘 날씨는 엄청 좋아요\"\n",
    "print(data)"
   ]
  },
  {
   "cell_type": "code",
   "execution_count": 21,
   "id": "a87457f4",
   "metadata": {},
   "outputs": [],
   "source": [
    "tel_pattern = r\"[0-9]{2,3}[\\-) .]?[0-9]{3,4}[\\- .]?[0-9]{4}\""
   ]
  },
  {
   "cell_type": "code",
   "execution_count": 24,
   "id": "18dc353e",
   "metadata": {},
   "outputs": [
    {
     "data": {
      "text/plain": [
       "['041-888-8888', '010 9999 9999']"
      ]
     },
     "execution_count": 24,
     "metadata": {},
     "output_type": "execute_result"
    }
   ],
   "source": [
    "# 해당 패턴을 다 찾아줌. 없으면 []반환\n",
    "tels = re.findall(tel_pattern, data) \n",
    "tels"
   ]
  },
  {
   "cell_type": "code",
   "execution_count": 25,
   "id": "0683913e",
   "metadata": {},
   "outputs": [
    {
     "data": {
      "text/plain": [
       "<re.Match object; span=(10, 22), match='041-888-8888'>"
      ]
     },
     "execution_count": 25,
     "metadata": {},
     "output_type": "execute_result"
    }
   ],
   "source": [
    "# search() : 정규 표현식 패턴과 일치하는 처음 단어만 찾음\n",
    "pattern =  \"(\\d{2,3})-(\\d{3,4})-(\\d{4})\"\n",
    "firstTel = re.search(pattern, data)\n",
    "firstTel"
   ]
  },
  {
   "cell_type": "code",
   "execution_count": 27,
   "id": "c7c00ab8",
   "metadata": {},
   "outputs": [
    {
     "data": {
      "text/plain": [
       "'041-888-8888'"
      ]
     },
     "execution_count": 27,
     "metadata": {},
     "output_type": "execute_result"
    }
   ],
   "source": [
    "data[10:22] # 문자 슬라이식"
   ]
  },
  {
   "cell_type": "code",
   "execution_count": 29,
   "id": "63e8933d",
   "metadata": {},
   "outputs": [
    {
     "name": "stdout",
     "output_type": "stream",
     "text": [
      "전화번호 전체: 041-888-8888\n",
      "국번 : 041\n",
      "중간번호 : 888\n",
      "끝번호 : 8888\n"
     ]
    }
   ],
   "source": [
    "print('전화번호 전체:', firstTel.group(0))\n",
    "print('국번 :', firstTel.group(1))\n",
    "print('중간번호 :', firstTel.group(2))\n",
    "print('끝번호 :', firstTel.group(3))"
   ]
  },
  {
   "cell_type": "code",
   "execution_count": 40,
   "id": "d0fe03e2",
   "metadata": {},
   "outputs": [
    {
     "data": {
      "text/plain": [
       "'홍길동인데 전번이 041-888-8888, 010 9999 9999 동해번쩍 서해번쩍 ㅋㅋ ㅠㅠ 오늘 날씨는 엄청 좋아요'"
      ]
     },
     "execution_count": 40,
     "metadata": {},
     "output_type": "execute_result"
    }
   ],
   "source": [
    "re.sub('r[가-힣0-9\\s]', '', data) # 특수문자, 자음, 모음 없애기"
   ]
  },
  {
   "cell_type": "code",
   "execution_count": 50,
   "id": "42c027d9",
   "metadata": {},
   "outputs": [],
   "source": [
    "# 파일 경로에는 반드시 r, \\\\, /를 사용\n",
    "file_path = r\"C:\\ai_x_Kyoung tae\\source\\01_python\\text.txt\"\n",
    "file_path = \"C:\\\\ai_x_Kyoung tae\\\\source\\\\01_python\\\\text.txt\"\n",
    "file_path = \"C:/ai_x_Kyoung tae/source/01_python/text.txt\""
   ]
  },
  {
   "cell_type": "code",
   "execution_count": 101,
   "id": "ee49ea34",
   "metadata": {},
   "outputs": [
    {
     "name": "stdout",
     "output_type": "stream",
     "text": [
      "Hello~ world\n"
     ]
    }
   ],
   "source": [
    "file_stream = open(file_path, 'w')\n",
    "print(\"Hello\", \"world\", sep=\"~ \") # 콘솔 출력\n",
    "print(\"Hello\", \"world\", sep=\" ~ \", file=file_stream) # 파일 출력\n",
    "file_stream.close() # close를 하지 않으면 파일저장 X"
   ]
  },
  {
   "cell_type": "markdown",
   "id": "ef38bfd2",
   "metadata": {},
   "source": [
    "# ※ 문자열 슬라이싱"
   ]
  },
  {
   "cell_type": "code",
   "execution_count": 102,
   "id": "c533d7e7",
   "metadata": {},
   "outputs": [
    {
     "data": {
      "text/plain": [
       "'0123456789'"
      ]
     },
     "execution_count": 102,
     "metadata": {},
     "output_type": "execute_result"
    }
   ],
   "source": [
    "str_ = '0123456789'\n",
    "str_"
   ]
  },
  {
   "cell_type": "code",
   "execution_count": 103,
   "id": "b94a1c49",
   "metadata": {},
   "outputs": [
    {
     "data": {
      "text/plain": [
       "('0', '2', '9', '7')"
      ]
     },
     "execution_count": 103,
     "metadata": {},
     "output_type": "execute_result"
    }
   ],
   "source": [
    "# 문자 인덱싱\n",
    "str_[0], str_[2], str_[-1], str_[-3]"
   ]
  },
  {
   "cell_type": "code",
   "execution_count": 104,
   "id": "c35cd98b",
   "metadata": {},
   "outputs": [
    {
     "ename": "IndexError",
     "evalue": "string index out of range",
     "output_type": "error",
     "traceback": [
      "\u001b[1;31m------------------------------------------------------\u001b[0m",
      "\u001b[1;31mIndexError\u001b[0m           Traceback (most recent call last)",
      "Cell \u001b[1;32mIn[104], line 1\u001b[0m\n\u001b[1;32m----> 1\u001b[0m \u001b[43mstr_\u001b[49m\u001b[43m[\u001b[49m\u001b[38;5;241;43m20\u001b[39;49m\u001b[43m]\u001b[49m\n",
      "\u001b[1;31mIndexError\u001b[0m: string index out of range"
     ]
    }
   ],
   "source": [
    "str_[20] # 없는 인덱싱은 에러"
   ]
  },
  {
   "cell_type": "code",
   "execution_count": 105,
   "id": "93ee80ed",
   "metadata": {},
   "outputs": [
    {
     "ename": "SyntaxError",
     "evalue": "invalid syntax (1066533829.py, line 1)",
     "output_type": "error",
     "traceback": [
      "\u001b[1;36m  Cell \u001b[1;32mIn[105], line 1\u001b[1;36m\u001b[0m\n\u001b[1;33m    ```\u001b[0m\n\u001b[1;37m    ^\u001b[0m\n\u001b[1;31mSyntaxError\u001b[0m\u001b[1;31m:\u001b[0m invalid syntax\n"
     ]
    }
   ],
   "source": [
    "```\n",
    "문자변수 [from:stop] : from부터 stop앞까지 추출\n",
    "문자변수[from:stop:step] : from부터 stop앞까지 step씩 전진하면서 추출\n",
    "        step 생략시 1\n",
    "        from 생략시 처음부터\n",
    "        stop 생략시 끝까지\n",
    "```"
   ]
  },
  {
   "cell_type": "code",
   "execution_count": 106,
   "id": "7347ed31",
   "metadata": {},
   "outputs": [
    {
     "data": {
      "text/plain": [
       "'01234'"
      ]
     },
     "execution_count": 106,
     "metadata": {},
     "output_type": "execute_result"
    }
   ],
   "source": [
    "str_[0:5]"
   ]
  },
  {
   "cell_type": "code",
   "execution_count": 107,
   "id": "c5f3b743",
   "metadata": {},
   "outputs": [
    {
     "data": {
      "text/plain": [
       "'5678'"
      ]
     },
     "execution_count": 107,
     "metadata": {},
     "output_type": "execute_result"
    }
   ],
   "source": [
    "str_[-5:-1] # -5번째부터 -1번째 앞까지"
   ]
  },
  {
   "cell_type": "code",
   "execution_count": 108,
   "id": "d2022854",
   "metadata": {},
   "outputs": [
    {
     "data": {
      "text/plain": [
       "'6789'"
      ]
     },
     "execution_count": 108,
     "metadata": {},
     "output_type": "execute_result"
    }
   ],
   "source": [
    "str_[-4:] # -4번째부터 끝까지"
   ]
  },
  {
   "cell_type": "code",
   "execution_count": 109,
   "id": "446ea6b2",
   "metadata": {},
   "outputs": [
    {
     "data": {
      "text/plain": [
       "'0246'"
      ]
     },
     "execution_count": 109,
     "metadata": {},
     "output_type": "execute_result"
    }
   ],
   "source": [
    "str_[0:8:2]"
   ]
  },
  {
   "cell_type": "code",
   "execution_count": 110,
   "id": "74eff430",
   "metadata": {},
   "outputs": [
    {
     "data": {
      "text/plain": [
       "'987654321'"
      ]
     },
     "execution_count": 110,
     "metadata": {},
     "output_type": "execute_result"
    }
   ],
   "source": [
    "str_[9:0:-1]"
   ]
  },
  {
   "cell_type": "code",
   "execution_count": 111,
   "id": "3bf20eb9",
   "metadata": {},
   "outputs": [
    {
     "name": "stdout",
     "output_type": "stream",
     "text": [
      "0123456\n",
      "56789\n",
      "9876543210\n",
      "9876543210\n"
     ]
    }
   ],
   "source": [
    "# 첫문자~6번 or 5번째 인덱스까지 추출\n",
    "print(str_[0:7])\n",
    "# 5번째부터 끝까지 추출\n",
    "print(str_[5:])\n",
    "# str_를 거꾸로 출력\n",
    "print(str_[::-1])\n",
    "print(str_[-1::-1])"
   ]
  },
  {
   "cell_type": "markdown",
   "id": "8f2b19fe",
   "metadata": {},
   "source": [
    "## 3.3 논리형(True/False)"
   ]
  },
  {
   "cell_type": "code",
   "execution_count": 112,
   "id": "db909ff5",
   "metadata": {},
   "outputs": [
    {
     "name": "stdout",
     "output_type": "stream",
     "text": [
      "True\n",
      "<class 'bool'>\n",
      "True\n",
      "a 주소 : 140709713299664\n",
      "b 주소 : 140709713299664\n",
      "b 주소 : 140709713299664\n"
     ]
    }
   ],
   "source": [
    "a = True\n",
    "print(a) # a:매개변수=인자\n",
    "print(type(a)) # a변수의 타입\n",
    "print(isinstance(a, bool)) # isinstance(변수, 타입) : 변수가 해당 타입인지 여부\n",
    "print('a 주소 :', id(a))\n",
    "b = True\n",
    "print('b 주소 :', id(b))\n",
    "b - False\n",
    "print('b 주소 :', id(b))"
   ]
  },
  {
   "cell_type": "code",
   "execution_count": 113,
   "id": "2f93cea5",
   "metadata": {},
   "outputs": [
    {
     "data": {
      "text/plain": [
       "(1, 0)"
      ]
     },
     "execution_count": 113,
     "metadata": {},
     "output_type": "execute_result"
    }
   ],
   "source": [
    "int(True), int(False)"
   ]
  },
  {
   "cell_type": "code",
   "execution_count": 114,
   "id": "e8fab3ae",
   "metadata": {},
   "outputs": [],
   "source": [
    "# False로 간주되는 것 : 0, \"\"(빈스트링), None, [], (), {}\n",
    "# False외의 값은 다 True \" \""
   ]
  },
  {
   "cell_type": "code",
   "execution_count": 115,
   "id": "8b289a27",
   "metadata": {},
   "outputs": [
    {
     "name": "stdout",
     "output_type": "stream",
     "text": [
      "False다\n"
     ]
    }
   ],
   "source": [
    "if []:\n",
    "    print('True다')\n",
    "else:\n",
    "    print('False다')"
   ]
  },
  {
   "cell_type": "markdown",
   "id": "745266bd",
   "metadata": {},
   "source": [
    "## 3.4 자료형 확인 및 형변환 함수\n",
    "- type(변수)\n",
    "- isinstance(변수, 타입)\n",
    "- int() : 정수형으로 변환\n",
    "- float() : 실수형으로 변환\n",
    "- str() : 문자형으로 변환\n",
    "- bool() : 논리형으로 변환"
   ]
  },
  {
   "cell_type": "code",
   "execution_count": 116,
   "id": "c15795fc",
   "metadata": {},
   "outputs": [
    {
     "data": {
      "text/plain": [
       "123"
      ]
     },
     "execution_count": 116,
     "metadata": {},
     "output_type": "execute_result"
    }
   ],
   "source": [
    "int(\"123\")"
   ]
  },
  {
   "cell_type": "code",
   "execution_count": 117,
   "id": "80aa9011",
   "metadata": {},
   "outputs": [
    {
     "data": {
      "text/plain": [
       "('10', '10.5', 'True', '1120000000000.0')"
      ]
     },
     "execution_count": 117,
     "metadata": {},
     "output_type": "execute_result"
    }
   ],
   "source": [
    "str(10), str(10.5), str(True), str(1.12e12)"
   ]
  },
  {
   "cell_type": "code",
   "execution_count": 119,
   "id": "7388dc25",
   "metadata": {},
   "outputs": [
    {
     "data": {
      "text/plain": [
       "False"
      ]
     },
     "execution_count": 119,
     "metadata": {},
     "output_type": "execute_result"
    }
   ],
   "source": [
    "bool(\"\")"
   ]
  },
  {
   "cell_type": "markdown",
   "id": "d73507dd",
   "metadata": {},
   "source": [
    "파이썬 기본 자료형(정리)\n",
    "1. 숫자 - int, float, complex\n",
    "2. 문자 - str, 문자슬러싱, raw데이터(정규표현식, 파일경로)\n",
    "3. 논리형 - False로 판별되는 경우"
   ]
  },
  {
   "cell_type": "markdown",
   "id": "c8232984",
   "metadata": {},
   "source": [
    "# 4절. 포맷팅\n",
    "- 포맷팅이란, 출력할 문자, 숫자, 날짜 데이터의 형식을 지정하는 것\n",
    "- 변수와 텍스트를 결합해서 보기 좋은 형식의 새로운 텍스트를 만들 수 있음\n",
    "\n",
    "## 4.1 문자열에 출력 형식 지정"
   ]
  },
  {
   "cell_type": "code",
   "execution_count": 122,
   "id": "5aa026b2",
   "metadata": {},
   "outputs": [
    {
     "name": "stdout",
     "output_type": "stream",
     "text": [
      "홍길동님의 나이는30살입니다\n"
     ]
    }
   ],
   "source": [
    "name = \"홍길동\"\n",
    "age = 30\n",
    "print(name, '님의 나이는', age, '살입니다', sep='')"
   ]
  },
  {
   "cell_type": "code",
   "execution_count": null,
   "id": "cde4a1b0",
   "metadata": {},
   "outputs": [],
   "source": [
    "print(\"%s님의 나이는 %3d살입니다\"%(name, age))\n",
    "# %s: 문자, %d:정수 %f:실수\n",
    "print(f\"{name}님의 나이는 {age}살입니다\")\n",
    "print(\"{}님의 나이는 {(}age}살입니다\")"
   ]
  },
  {
   "cell_type": "markdown",
   "id": "c2de48dc",
   "metadata": {},
   "source": [
    "## 4.2 format() 문법"
   ]
  },
  {
   "cell_type": "code",
   "execution_count": null,
   "id": "7e278cec",
   "metadata": {},
   "outputs": [],
   "source": [
    "#\"{[인덱스]:[공백대체문자][정렬방식][자릿수][타입]}\".format(변수)\n",
    "    # 인덱스 : format함수 안의 매개변수의 순서\n",
    "    # 정렬방식 : <(왼쪽정렬), >(오른쪽정렬), ^(중앙정렬)\n",
    "    # 정수자릿수 : 출력될 자릿수d. 변수 내용보다 작은 자릿수가 지정되면 자릿수 무시\n",
    "    # 실수자릿수 : 출력될자릿수.소수점이하출력자릿수f\n",
    "    # 문자자릿수 : 전체확보될자릿수[.변수중출력할자릿수]s\n",
    "    # 타입 : d(10진수 정수), b(2진수), x(16진수), f(실수), s(문자)\n",
    "    # 공백대체문자를 쓸 경우 정렬방식을 반드시 기입해야 함"
   ]
  },
  {
   "cell_type": "code",
   "execution_count": null,
   "id": "3130bcd7",
   "metadata": {},
   "outputs": [],
   "source": [
    "name = input('이름은')\n",
    "age = int(input('나이는?'))\n",
    "print(\"()살\") *()님 반갑습니다\".format(age, name))\n",
    "print(\"\")"
   ]
  },
  {
   "cell_type": "code",
   "execution_count": null,
   "id": "7912c4b0",
   "metadata": {},
   "outputs": [],
   "source": [
    "# 숫자의 경우 : 오른쪽정렬(기본값)\n",
    "# 문자의 경우 : 왼쪽정렬(기본값)\n",
    "# 변수보다 작은 자리수를 지정하면 자릿수가 무시되고 다 출력(정수 자리수)\n",
    "i = 12345\n",
    "s = \"Hello\"\n",
    "print(\"[{0}], [{0:10}], [{0:3}]\",format(i))\n",
    "print(\"[{0}], [{0:10}], [{0:3}]\",format(s))"
   ]
  },
  {
   "cell_type": "code",
   "execution_count": null,
   "id": "c4899bf9",
   "metadata": {},
   "outputs": [],
   "source": [
    "# 문자 : 전체자리수.표현될자리수\n",
    "# 실수 : 전체자리수.소수점이하 표현될 자리수\n",
    "f = 2.758\n",
    "s = \"Hello\"\n",
    "print(\"f = [{:$>5.2f}]\".format(f))\n",
    "print(\"s = [{:_<5.2}]\".format(s))"
   ]
  },
  {
   "cell_type": "code",
   "execution_count": null,
   "id": "13a1d09e",
   "metadata": {},
   "outputs": [],
   "source": [
    "# + : 부호를 출력\n",
    "a, b = 123, -123\n",
    "print(\"[{:5}], [{:5}]\".format(a, b))\n",
    "print(\"[{:+5}], [{:+5}]\".format(a, b))\n",
    "print(\"[{:=+5}], [{:=+5}]\".format(a, b))"
   ]
  },
  {
   "cell_type": "code",
   "execution_count": null,
   "id": "25a71795",
   "metadata": {},
   "outputs": [],
   "source": [
    "#\n",
    "f = 2.785\n",
    "print(\"[{:+10.2f}]\".format(f))"
   ]
  },
  {
   "cell_type": "code",
   "execution_count": null,
   "id": "a8d4e26d",
   "metadata": {},
   "outputs": [],
   "source": [
    "sign = '+'\n",
    "width = 10\n",
    "precision = 2\n",
    "print(\"[{:{}{}.{}f}]\".format(f, sign, width, precision))"
   ]
  },
  {
   "cell_type": "code",
   "execution_count": null,
   "id": "6d7f151a",
   "metadata": {},
   "outputs": [],
   "source": [
    "a = 15\n",
    "print(\"10진수 a = [{:5d}]\".format(a))\n",
    "print(\"16진수 a = [{:5x}]\".format(a))\n",
    "print(\"2진수 a = [{:5b}]\".format(a))"
   ]
  },
  {
   "cell_type": "markdown",
   "id": "639b059e",
   "metadata": {},
   "source": [
    "# 4.3 날짜출력"
   ]
  },
  {
   "cell_type": "code",
   "execution_count": null,
   "id": "85f38049",
   "metadata": {},
   "outputs": [],
   "source": [
    "import re\n",
    "from datetime import datetime\n",
    "now = datetime.now()\n",
    "now"
   ]
  },
  {
   "cell_type": "code",
   "execution_count": null,
   "id": "3a5fc578",
   "metadata": {},
   "outputs": [],
   "source": [
    "print(\"{}\".format(now))\n",
    "print(\"\")"
   ]
  },
  {
   "cell_type": "code",
   "execution_count": null,
   "id": "fd2e42b5",
   "metadata": {},
   "outputs": [],
   "source": []
  },
  {
   "cell_type": "code",
   "execution_count": null,
   "id": "48748d37",
   "metadata": {},
   "outputs": [],
   "source": []
  },
  {
   "cell_type": "code",
   "execution_count": null,
   "id": "d497f124",
   "metadata": {},
   "outputs": [],
   "source": []
  },
  {
   "cell_type": "code",
   "execution_count": null,
   "id": "4bd54760",
   "metadata": {},
   "outputs": [],
   "source": []
  },
  {
   "cell_type": "code",
   "execution_count": null,
   "id": "f4b9e439",
   "metadata": {},
   "outputs": [],
   "source": []
  },
  {
   "cell_type": "code",
   "execution_count": null,
   "id": "326b66bf",
   "metadata": {},
   "outputs": [],
   "source": []
  },
  {
   "cell_type": "code",
   "execution_count": null,
   "id": "85fe5556",
   "metadata": {},
   "outputs": [],
   "source": []
  },
  {
   "cell_type": "code",
   "execution_count": null,
   "id": "840562d8",
   "metadata": {},
   "outputs": [],
   "source": []
  }
 ],
 "metadata": {
  "kernelspec": {
   "display_name": "Python 3 (ipykernel)",
   "language": "python",
   "name": "python3"
  },
  "language_info": {
   "codemirror_mode": {
    "name": "ipython",
    "version": 3
   },
   "file_extension": ".py",
   "mimetype": "text/x-python",
   "name": "python",
   "nbconvert_exporter": "python",
   "pygments_lexer": "ipython3",
   "version": "3.10.9"
  },
  "toc": {
   "base_numbering": 1,
   "nav_menu": {},
   "number_sections": false,
   "sideBar": true,
   "skip_h1_title": false,
   "title_cell": "Table of Contents",
   "title_sidebar": "Contents",
   "toc_cell": false,
   "toc_position": {
    "height": "calc(100% - 180px)",
    "left": "10px",
    "top": "150px",
    "width": "189.222px"
   },
   "toc_section_display": true,
   "toc_window_display": false
  }
 },
 "nbformat": 4,
 "nbformat_minor": 5
}
